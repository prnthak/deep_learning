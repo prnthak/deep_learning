{
 "cells": [
  {
   "cell_type": "markdown",
   "id": "7c6788aef474ca12",
   "metadata": {
    "collapsed": false,
    "id": "7c6788aef474ca12"
   },
   "source": [
    "# Text Generation with Recurrent Neural Networks (RNNs)\n",
    "\n",
    "In this assignment, you'll build upon your understanding of RNNs and Keras to develop a word-level text generation model.  Your goal is to train a model that learns the stylistic nuances of a chosen corpus and generates new, original text segments that echo the source material's essence.\n",
    "\n",
    "**Datasets**\n",
    "\n",
    "We've provided several intriguing text corpora to get you started:\n",
    "\n",
    "*   Mark Twain\n",
    "*   Charles Dickens\n",
    "*   William Shakespeare\n",
    "\n",
    "**Feel free to explore!**  If you have a particular passion for another author, genre, or a specific text, you're encouraged to use your own dataset of raw text."
   ]
  },
  {
   "cell_type": "code",
   "execution_count": 1,
   "id": "2d0bfedcfe52aedc",
   "metadata": {
    "colab": {
     "base_uri": "https://localhost:8080/"
    },
    "id": "2d0bfedcfe52aedc",
    "outputId": "eef898b3-cf85-43d1-9715-30194b9932d3"
   },
   "outputs": [
    {
     "name": "stdout",
     "output_type": "stream",
     "text": [
      "No GPU available. If you're on Colab, go to Runtime > Change runtime and select a GPU hardware accelerator.\n"
     ]
    }
   ],
   "source": [
    "# Check if we have a GPU available\n",
    "import tensorflow as tf\n",
    "if tf.test.gpu_device_name():\n",
    "    print('Default GPU Device: {}'.format(tf.test.gpu_device_name()))\n",
    "else:\n",
    "    print(\"No GPU available. If you're on Colab, go to Runtime > Change runtime and select a GPU hardware accelerator.\")"
   ]
  },
  {
   "cell_type": "code",
   "execution_count": 2,
   "id": "9c28c497f620b775",
   "metadata": {
    "ExecuteTime": {
     "end_time": "2024-02-08T21:30:44.959803Z",
     "start_time": "2024-02-08T21:30:44.701343Z"
    },
    "id": "9c28c497f620b775"
   },
   "outputs": [],
   "source": [
    "def download_file(url, file_path):\n",
    "    import requests\n",
    "    r = requests.get(url)\n",
    "    with open(file_path, 'wb') as f:\n",
    "        f.write(r.content)\n",
    "\n",
    "def load_dataset(file_path, fraction=1.0):\n",
    "    with open(file_path, 'r', encoding='utf-8') as f:\n",
    "        raw_text = f.read()\n",
    "    return raw_text[:int(fraction * len(raw_text))]\n",
    "\n",
    "dataset = 'mark_twain.txt' # Other options are mark_twain.txt, charles_dickens.txt\n",
    "\n",
    "download_file(f'https://github.com/UofT-DSI/deep_learning/raw/main/assignments/downloaded_books/' + dataset, dataset)\n",
    "\n",
    "# Load chosen dataset. NOTE: If Colab is running out of memory, change the `fraction` parameter to a value between 0 and 1 to load less data.\n",
    "text = load_dataset(dataset,fraction=1)"
   ]
  },
  {
   "cell_type": "markdown",
   "id": "dab51c764031e606",
   "metadata": {
    "collapsed": false,
    "id": "dab51c764031e606"
   },
   "source": [
    "# 1. Data Preparation (Complete or Incomplete)\n",
    "\n",
    "Before we can begin training an RNN model, we need to prepare the dataset. This involves cleaning the text, tokenizing words, and creating sequences the model can be trained on.\n",
    "\n",
    "## 1.1 Data Exploration\n",
    "\n",
    "Print the first 1000 characters of the dataset. Report the dataset's size and the number of unique characters it contains."
   ]
  },
  {
   "cell_type": "code",
   "execution_count": 3,
   "id": "BunkZmdkl0Wn",
   "metadata": {
    "colab": {
     "base_uri": "https://localhost:8080/"
    },
    "id": "BunkZmdkl0Wn",
    "outputId": "e429a49a-9334-4484-bd6b-2ce40c8298c1"
   },
   "outputs": [
    {
     "name": "stdout",
     "output_type": "stream",
     "text": [
      "\n",
      "\n",
      "\n",
      "\n",
      "\n",
      "\n",
      "<!DOCTYPE html>\n",
      "<html\n",
      "  lang=\"en\"\n",
      "  \n",
      "  data-color-mode=\"auto\" data-light-theme=\"light\" data-dark-theme=\"dark\"\n",
      "  data-a11y-animated-images=\"system\" data-a11y-link-underlines=\"true\"\n",
      "  >\n",
      "\n",
      "\n",
      "\n",
      "  <head>\n",
      "    <meta charset=\"utf-8\">\n",
      "  <link rel=\"dns-prefetch\" href=\"https://github.githubassets.com\">\n",
      "  <link rel=\"dns-prefetch\" href=\"https://avatars.githubusercontent.com\">\n",
      "  <link rel=\"dns-prefetch\" href=\"https://github-cloud.s3.amazonaws.com\">\n",
      "  <link rel=\"dns-prefetch\" href=\"https://user-images.githubusercontent.com/\">\n",
      "  <link rel=\"preconnect\" href=\"https://github.githubassets.com\" crossorigin>\n",
      "  <link rel=\"preconnect\" href=\"https://avatars.githubusercontent.com\">\n",
      "\n",
      "  \n",
      "\n",
      "  <link crossorigin=\"anonymous\" media=\"all\" rel=\"stylesheet\" href=\"https://github.githubassets.com/assets/light-efd2f2257c96.css\" /><link crossorigin=\"anonymous\" media=\"all\" rel=\"stylesheet\" href=\"https://github.githubassets.com/assets/dark-6b1e37da2254.css\" /><link data-color-theme=\"dark_dimmed\" crossorigin=\"anonymous\" media\n",
      "Dataset size: 267585\n",
      "Number of unique characters: 94\n"
     ]
    }
   ],
   "source": [
    "# Your code here\n",
    "\n",
    "# Print the first 1000 characters of the dataset\n",
    "print(text[:1000])\n",
    "\n",
    "# Report the dataset's size and the number of unique characters\n",
    "dataset_size = len(text)\n",
    "unique_chars = len(set(text))\n",
    "print(f\"Dataset size: {dataset_size}\")\n",
    "print(f\"Number of unique characters: {unique_chars}\")\n"
   ]
  },
  {
   "cell_type": "markdown",
   "id": "3ae1639f5ecfe587",
   "metadata": {
    "collapsed": false,
    "id": "3ae1639f5ecfe587"
   },
   "source": [
    "## 1.2 Text Pre-Processing\n",
    "\n",
    "To prepare the dataset for training, we need to clean the text and create a numerical representation the model can interpret. Perform the following pre-processing steps:\n",
    "\n",
    "*   Convert the entire text to lowercase.\n",
    "*   Use the `Tokenizer` class from the `keras.preprocessing.text` module to tokenize the text. You should fit the tokenizer on the text and then convert the text to a sequence of numbers. You can use the `texts_to_sequences` method to do this.\n",
    "\n",
    "**Note**:\n",
    "* You'll need to specify an appropriate size for the vocabulary. The number of words in the list of most common words can serve as a guide - does it seem like a reasonable vocabulary size?\n",
    "* Some of the words will be excluded from the vocabulary, as they don't appear often enough. It's important to provide a value for `oov_token` when creating the Tokenizer instance, so that these words can be represented as \"unknown\"."
   ]
  },
  {
   "cell_type": "code",
   "execution_count": 4,
   "id": "4d0d30cd98ea453c",
   "metadata": {
    "id": "4d0d30cd98ea453c"
   },
   "outputs": [
    {
     "name": "stdout",
     "output_type": "stream",
     "text": [
      "[('<OOV>', 1), ('0', 2), ('1', 3), ('quot', 4), ('75', 5), ('25', 6), ('2', 7), ('class', 8), ('3', 9), ('link', 10)]\n",
      "31605\n"
     ]
    }
   ],
   "source": [
    "from keras.preprocessing.text import Tokenizer\n",
    "import requests\n",
    "import tensorflow as tf\n",
    "from keras.preprocessing.text import Tokenizer\n",
    "from keras.utils import to_categorical\n",
    "from sklearn.model_selection import train_test_split\n",
    "import numpy as np\n",
    "import matplotlib.pyplot as plt\n",
    "\n",
    "# Your code here\n",
    "VOCAB_SIZE = None\n",
    "OOV_TOKEN = None\n",
    "\n",
    "tokenizer = None\n",
    "\n",
    "# Convert text to lowercase\n",
    "text = text.lower()\n",
    "\n",
    "# Initialize and fit the tokenizer\n",
    "VOCAB_SIZE = 25000\n",
    "OOV_TOKEN = \"<OOV>\"\n",
    "tokenizer = Tokenizer(num_words=VOCAB_SIZE, oov_token=OOV_TOKEN)\n",
    "tokenizer.fit_on_texts([text])\n",
    "\n",
    "# Convert text to sequences\n",
    "sequences = tokenizer.texts_to_sequences([text])[0]\n",
    "\n",
    "# Print the first 10 words in the vocabulary\n",
    "print(list(tokenizer.word_index.items())[:10])\n",
    "print(len(sequences))\n"
   ]
  },
  {
   "cell_type": "markdown",
   "id": "89d32bb9356f711",
   "metadata": {
    "collapsed": false,
    "id": "89d32bb9356f711"
   },
   "source": [
    "If everything worked, the following line should show you the first 10 words in the vocabulary:"
   ]
  },
  {
   "cell_type": "code",
   "execution_count": 5,
   "id": "6a7cd547a19feece",
   "metadata": {
    "colab": {
     "base_uri": "https://localhost:8080/"
    },
    "id": "6a7cd547a19feece",
    "outputId": "1f52c24c-fe9d-4074-a6b9-2be1b36a172e"
   },
   "outputs": [
    {
     "name": "stdout",
     "output_type": "stream",
     "text": [
      "[('<OOV>', 1), ('0', 2), ('1', 3), ('quot', 4), ('75', 5), ('25', 6), ('2', 7), ('class', 8), ('3', 9), ('link', 10)]\n"
     ]
    }
   ],
   "source": [
    "try:\n",
    "    print(list(tokenizer.word_index.items())[:10])\n",
    "except AttributeError:\n",
    "    print(\"Tokenizer has not been initialized. Possible issue: Complete the relevant section of the assignment to initialize it.\"\n",
    ")\n"
   ]
  },
  {
   "cell_type": "markdown",
   "id": "da504e4bc6617613",
   "metadata": {
    "collapsed": false,
    "id": "da504e4bc6617613"
   },
   "source": [
    "## 1.3 Sequence Generation\n",
    "\n",
    "Now that the text has been tokenized, we need to create sequences the model can be trained on. There are two parts to this:\n",
    "\n",
    "*   Use the `texts_to_sequences` method from the tokenizer to convert the text to a list of sequences of numbers.\n",
    "*   Generate the training sequences. Each training sequence should contain `SEQ_LENGTH` token IDs from the text. The target token for each sequence should be the word that follows the sequence in the text."
   ]
  },
  {
   "cell_type": "code",
   "execution_count": 6,
   "id": "4ff5fc8d0273709c",
   "metadata": {
    "id": "4ff5fc8d0273709c"
   },
   "outputs": [
    {
     "name": "stdout",
     "output_type": "stream",
     "text": [
      "First 10 raw target tokens (before one-hot encoding): [  10  122  674  675   33   24   14 1617 1618 1619]\n",
      "X_train shape: (25244, 50)\n",
      "y_train shape: (25244, 5837)\n",
      "X_trainval shape: (6311, 50)\n",
      "y_trainval shape: (6311, 5837)\n"
     ]
    }
   ],
   "source": [
    "SEQ_LENGTH = 50  # Choose an appropriate sequence length\n",
    "\n",
    "# Convert the text to a list of sequences of numbers\n",
    "sequences = tokenizer.texts_to_sequences([text])[0]\n",
    "\n",
    "# Generate the training sequences\n",
    "X = []\n",
    "y = []\n",
    "for i in range(SEQ_LENGTH, len(sequences)):\n",
    "    X.append(sequences[i - SEQ_LENGTH:i])\n",
    "    y.append(sequences[i])\n",
    "\n",
    "# Convert lists to numpy arrays for compatibility with Keras\n",
    "X = np.array(X)\n",
    "y = np.array(y)\n",
    "\n",
    "if OOV_TOKEN in tokenizer.word_index:\n",
    "        mask = y != tokenizer.word_index[OOV_TOKEN]\n",
    "        X = X[mask]\n",
    "        y = y[mask]\n",
    "        \n",
    "# Print some details to verify the raw target tokens\n",
    "print(f\"First 10 raw target tokens (before one-hot encoding): {y[:10]}\")\n",
    "\n",
    "# Optionally, convert y to one-hot encoding if needed for classification\n",
    "num_classes = len(tokenizer.word_index) + 1  # Ensure the correct number of classes\n",
    "y = to_categorical(y, num_classes=num_classes)\n",
    "\n",
    "# Split the data into training and validation sets\n",
    "X_train, X_val, y_train, y_val = train_test_split(X, y, test_size=0.2)\n",
    "\n",
    "print(f'X_train shape: {X_train.shape}')\n",
    "print(f'y_train shape: {y_train.shape}')\n",
    "print(f'X_trainval shape: {X_val.shape}')\n",
    "print(f'y_trainval shape: {y_val.shape}')\n",
    "\n",
    "\n"
   ]
  },
  {
   "cell_type": "markdown",
   "id": "3b6bdc0deb930df1",
   "metadata": {
    "collapsed": false,
    "id": "3b6bdc0deb930df1"
   },
   "source": [
    "Assuming your sequences are stored in `X` and the corresponding targets in `y`, the following line should print the first training sequence and its target:"
   ]
  },
  {
   "cell_type": "code",
   "execution_count": 7,
   "id": "a495cab04001ce92",
   "metadata": {
    "colab": {
     "base_uri": "https://localhost:8080/"
    },
    "id": "a495cab04001ce92",
    "outputId": "ecc2c1f4-81d5-4edb-ba86-8c53f86df70b"
   },
   "outputs": [
    {
     "name": "stdout",
     "output_type": "stream",
     "text": [
      "Sequence: [1613  463  463 1119  878   11   52 1120  179   11  250  259  250   11\n",
      "  203  259  203   11 1121 1614 1122 1615   11 1121   10 1616   17 1123\n",
      "   82  464  465   32   10  122  674  675   33   24   14   67   25   10\n",
      "  122  674  675   33   24 1124  879   25]\n",
      "Target: 10\n",
      "Translated back to words: ['doctype', 'html', 'html', 'lang', 'en', 'data', 'color', 'mode', 'auto', 'data', 'light', 'theme', 'light', 'data', 'dark', 'theme', 'dark', 'data', 'a11y', 'animated', 'images', 'system', 'data', 'a11y', 'link', 'underlines', 'true', 'head', 'meta', 'charset', 'utf', '8', 'link', 'rel', 'dns', 'prefetch', 'href', 'https', 'github', 'githubassets', 'com', 'link', 'rel', 'dns', 'prefetch', 'href', 'https', 'avatars', 'githubusercontent', 'com'] -> link\n"
     ]
    }
   ],
   "source": [
    "if len(X) > 0 and len(y) > 0:\n",
    "    target_index = np.argmax(y[0])\n",
    "    print(f'Sequence: {X[0]}\\nTarget: {target_index}')\n",
    "    print(f'Translated back to words: {[tokenizer.index_word[i] for i in X[0]]} -> {tokenizer.index_word[target_index]}')\n",
    "else:\n",
    "    print(\"Training sequences have not been generated. Possible issue: Complete the relevant section of the assignment to initialize it.\")"
   ]
  },
  {
   "cell_type": "markdown",
   "id": "d5bb2c55da17aaa0",
   "metadata": {
    "collapsed": false,
    "id": "d5bb2c55da17aaa0"
   },
   "source": [
    "And the following code will transform y into a one-hot encoded matrix, and split everything into training and validation sets:"
   ]
  },
  {
   "cell_type": "code",
   "execution_count": 8,
   "id": "3a929b2e6c2cc921",
   "metadata": {
    "colab": {
     "base_uri": "https://localhost:8080/"
    },
    "id": "3a929b2e6c2cc921",
    "outputId": "bbac2f5d-5ec3-40d0-fdd7-c567088569d7"
   },
   "outputs": [
    {
     "ename": "IndexError",
     "evalue": "boolean index did not match indexed array along dimension 1; dimension is 50 but corresponding boolean dimension is 5837",
     "output_type": "error",
     "traceback": [
      "\u001b[1;31m---------------------------------------------------------------------------\u001b[0m",
      "\u001b[1;31mIndexError\u001b[0m                                Traceback (most recent call last)",
      "Cell \u001b[1;32mIn[8], line 14\u001b[0m\n\u001b[0;32m     12\u001b[0m \u001b[38;5;28;01mif\u001b[39;00m OOV_TOKEN \u001b[38;5;129;01min\u001b[39;00m tokenizer\u001b[38;5;241m.\u001b[39mword_index:\n\u001b[0;32m     13\u001b[0m     mask \u001b[38;5;241m=\u001b[39m y \u001b[38;5;241m!=\u001b[39m tokenizer\u001b[38;5;241m.\u001b[39mword_index[OOV_TOKEN]\n\u001b[1;32m---> 14\u001b[0m     X \u001b[38;5;241m=\u001b[39m \u001b[43mX\u001b[49m\u001b[43m[\u001b[49m\u001b[43mmask\u001b[49m\u001b[43m]\u001b[49m\n\u001b[0;32m     15\u001b[0m     y \u001b[38;5;241m=\u001b[39m y[mask]\n\u001b[0;32m     17\u001b[0m \u001b[38;5;66;03m# One-hot encode the target token\u001b[39;00m\n",
      "\u001b[1;31mIndexError\u001b[0m: boolean index did not match indexed array along dimension 1; dimension is 50 but corresponding boolean dimension is 5837"
     ]
    }
   ],
   "source": [
    "from sklearn.model_selection import train_test_split\n",
    "from keras.utils import to_categorical\n",
    "import numpy as np\n",
    "\n",
    "# Ensure that tokenizer has been initialized\n",
    "if tokenizer is not None:\n",
    "    # Convert X and y to numpy arrays\n",
    "    X = np.array(X)\n",
    "    y = np.array(y)\n",
    "\n",
    "    # One last thing: let's drop any examples where the target is the OOV token - we don't want our model to predict that (boring!)\n",
    "    if OOV_TOKEN in tokenizer.word_index:\n",
    "        mask = y != tokenizer.word_index[OOV_TOKEN]\n",
    "        X = X[mask]\n",
    "        y = y[mask]\n",
    "\n",
    "    # One-hot encode the target token\n",
    "    y = to_categorical(y, num_classes=VOCAB_SIZE)\n",
    "\n",
    "    # Split the data into training and validation sets\n",
    "    X_train, X_val, y_train, y_val = train_test_split(X, y, test_size=0.2)\n",
    "\n",
    "    print(f'X_train shape: {X_train.shape}')\n",
    "    print(f'y_train shape: {y_train.shape}')\n",
    "else:\n",
    "    print(\"Tokenizer has not been initialized. Please initialize it and load the vocabulary before continuing.\")\n"
   ]
  },
  {
   "cell_type": "markdown",
   "id": "b6e4161897210434",
   "metadata": {
    "collapsed": false,
    "id": "b6e4161897210434"
   },
   "source": [
    "# 2. Model Development (Complete or Incomplete)\n",
    "\n",
    "With the dataset prepared, it's time to develop the RNN model. You'll need to define the architecture of the model, compile it, and prepare it for training.\n",
    "\n",
    "## 2.1 Model Architecture\n",
    "\n",
    "Define the architecture of your RNN model. You can design it however you like, but there are a few features that it's important to include:\n",
    "\n",
    "*   An embedding layer that learns a dense representation of the input tokens. You'll need to specify the input dimension (the size of the vocabulary) and the output dimension (the size of the dense representation). Remember, you can look at the documentation [here](https://keras.io/api/layers/core_layers/embedding/).\n",
    "*   At least one recurrent layer. We have learned how to use LSTM layers in class, but you can use other types of recurrent layers if you prefer. You can find the documentation [here](https://keras.io/api/layers/recurrent_layers/lstm/).\n",
    "*   A dense layer with a softmax activation function. This layer will output a probability distribution over the vocabulary, so that the model can make predictions about the next token."
   ]
  },
  {
   "cell_type": "code",
   "execution_count": 12,
   "id": "9fdfaad93818fc8d",
   "metadata": {
    "colab": {
     "base_uri": "https://localhost:8080/"
    },
    "id": "9fdfaad93818fc8d",
    "outputId": "ae02a273-ab37-4274-d41c-b2c0c80350d6"
   },
   "outputs": [
    {
     "name": "stdout",
     "output_type": "stream",
     "text": [
      "Model: \"sequential_1\"\n",
      "_________________________________________________________________\n",
      " Layer (type)                Output Shape              Param #   \n",
      "=================================================================\n",
      " embedding_1 (Embedding)     (None, 50, 128)           3200000   \n",
      "                                                                 \n",
      " lstm_1 (LSTM)               (None, 50, 256)           394240    \n",
      "                                                                 \n",
      " dropout_2 (Dropout)         (None, 50, 256)           0         \n",
      "                                                                 \n",
      " flatten (Flatten)           (None, 12800)             0         \n",
      "                                                                 \n",
      " dense_2 (Dense)             (None, 256)               3277056   \n",
      "                                                                 \n",
      " dropout_3 (Dropout)         (None, 256)               0         \n",
      "                                                                 \n",
      " dense_3 (Dense)             (None, 5837)              1500109   \n",
      "                                                                 \n",
      "=================================================================\n",
      "Total params: 8,371,405\n",
      "Trainable params: 8,371,405\n",
      "Non-trainable params: 0\n",
      "_________________________________________________________________\n"
     ]
    }
   ],
   "source": [
    "from keras.models import Sequential\n",
    "from keras.layers import Embedding, LSTM, Dense, Dropout, Flatten\n",
    "\n",
    "model = Sequential([\n",
    "    Embedding(VOCAB_SIZE, 128, input_length=SEQ_LENGTH),\n",
    "    LSTM(256, return_sequences=True),\n",
    "    Dropout(0.3),\n",
    "    Flatten(),\n",
    "    Dense(256, activation='relu'),\n",
    "    Dropout(0.3),\n",
    "    Dense(num_classes, activation='softmax')\n",
    "])\n",
    "\n",
    "# Train the model\n",
    "\n",
    "\n",
    "# Check if the model has layers before trying to print the summary\n",
    "if len(model.layers) > 0:\n",
    "    model.summary()\n",
    "else:\n",
    "    print(\"No layers have been added to the model. Please complete the assignment by adding the required layers.\")"
   ]
  },
  {
   "cell_type": "markdown",
   "id": "2fafd2dbb0d589fc",
   "metadata": {
    "collapsed": false,
    "id": "2fafd2dbb0d589fc"
   },
   "source": [
    "## 2.2 Model Compilation\n",
    "\n",
    "Compile the model with an appropriate loss function and optimizer. You might also want to track additional metrics, such as accuracy.\n",
    "\n",
    "Give a short explanation of your choice of loss function and optimizer:\n",
    "\n",
    "_your explanation here_"
   ]
  },
  {
   "cell_type": "code",
   "execution_count": 13,
   "id": "ae4ca7a12051b1fd",
   "metadata": {
    "id": "ae4ca7a12051b1fd"
   },
   "outputs": [],
   "source": [
    "# Your code here\n",
    "# Adam combines the benefits of two other popular optimization algorithms - AdaGrad and RMSProp, requires less tuning and ismore efficient. \n",
    "# Caterogical crossentropy because texts are one hot encoded which makes it suitable for tasks where the model needs to output a probability distribution over multiple classes\n",
    "\n",
    "\n",
    "# Compile the model\n",
    "from keras.optimizers import Adam \n",
    "optimizer = Adam(learning_rate=0.0001)\n",
    "model.compile(loss='categorical_crossentropy', optimizer=optimizer, metrics=['accuracy'])\n"
   ]
  },
  {
   "cell_type": "markdown",
   "id": "c2f0b90a448c4f4b",
   "metadata": {
    "collapsed": false,
    "id": "c2f0b90a448c4f4b"
   },
   "source": [
    "## 2.3 Model Training\n",
    "\n",
    "Train the model on the training data you've prepared.\n",
    "\n",
    "* Train your model for 5 epochs with a batch size of 128. Use the validation data for validation.\n",
    "* Store the training history in a variable called `history`."
   ]
  },
  {
   "cell_type": "code",
   "execution_count": 14,
   "id": "256b1ea138c67ef7",
   "metadata": {
    "colab": {
     "base_uri": "https://localhost:8080/"
    },
    "id": "256b1ea138c67ef7",
    "outputId": "fba36993-0bf3-472e-f1c3-1da548c12ead"
   },
   "outputs": [
    {
     "name": "stdout",
     "output_type": "stream",
     "text": [
      "Epoch 1/15\n",
      "198/198 [==============================] - 109s 545ms/step - loss: 6.7947 - accuracy: 0.1007 - val_loss: 5.9886 - val_accuracy: 0.1247 - lr: 1.0000e-04\n",
      "Epoch 2/15\n",
      "198/198 [==============================] - 136s 684ms/step - loss: 5.8267 - accuracy: 0.1184 - val_loss: 5.7645 - val_accuracy: 0.1263 - lr: 1.0000e-04\n",
      "Epoch 3/15\n",
      "198/198 [==============================] - 109s 552ms/step - loss: 5.5721 - accuracy: 0.1229 - val_loss: 5.7003 - val_accuracy: 0.1307 - lr: 1.0000e-04\n",
      "Epoch 4/15\n",
      "198/198 [==============================] - 109s 554ms/step - loss: 5.3832 - accuracy: 0.1280 - val_loss: 5.6817 - val_accuracy: 0.1325 - lr: 1.0000e-04\n",
      "Epoch 5/15\n",
      "198/198 [==============================] - 152s 770ms/step - loss: 5.2525 - accuracy: 0.1301 - val_loss: 5.6725 - val_accuracy: 0.1355 - lr: 1.0000e-04\n",
      "Epoch 6/15\n",
      "198/198 [==============================] - 148s 750ms/step - loss: 5.1432 - accuracy: 0.1333 - val_loss: 5.6648 - val_accuracy: 0.1412 - lr: 1.0000e-04\n",
      "Epoch 7/15\n",
      "198/198 [==============================] - 154s 777ms/step - loss: 5.0465 - accuracy: 0.1414 - val_loss: 5.6890 - val_accuracy: 0.1463 - lr: 1.0000e-04\n",
      "Epoch 8/15\n",
      "198/198 [==============================] - 166s 841ms/step - loss: 4.9508 - accuracy: 0.1426 - val_loss: 5.7031 - val_accuracy: 0.1466 - lr: 1.0000e-04\n",
      "Epoch 9/15\n",
      "198/198 [==============================] - 148s 748ms/step - loss: 4.8580 - accuracy: 0.1469 - val_loss: 5.6846 - val_accuracy: 0.1520 - lr: 1.0000e-04\n",
      "Epoch 10/15\n",
      "198/198 [==============================] - 145s 734ms/step - loss: 4.7512 - accuracy: 0.1514 - val_loss: 5.7245 - val_accuracy: 0.1638 - lr: 1.0000e-04\n",
      "Epoch 11/15\n",
      "198/198 [==============================] - 142s 720ms/step - loss: 4.6367 - accuracy: 0.1591 - val_loss: 5.7462 - val_accuracy: 0.1630 - lr: 1.0000e-04\n",
      "Epoch 12/15\n",
      "198/198 [==============================] - 115s 580ms/step - loss: 4.5154 - accuracy: 0.1647 - val_loss: 5.8136 - val_accuracy: 0.1676 - lr: 2.0000e-05\n",
      "Epoch 13/15\n",
      "198/198 [==============================] - 68s 344ms/step - loss: 4.4837 - accuracy: 0.1640 - val_loss: 5.8547 - val_accuracy: 0.1708 - lr: 2.0000e-05\n",
      "Epoch 14/15\n",
      "198/198 [==============================] - 121s 613ms/step - loss: 4.4548 - accuracy: 0.1679 - val_loss: 5.8695 - val_accuracy: 0.1735 - lr: 2.0000e-05\n",
      "Epoch 15/15\n",
      "198/198 [==============================] - 154s 779ms/step - loss: 4.4305 - accuracy: 0.1688 - val_loss: 5.8810 - val_accuracy: 0.1749 - lr: 2.0000e-05\n"
     ]
    }
   ],
   "source": [
    "# Your code here\n",
    "from keras.callbacks import EarlyStopping, ReduceLROnPlateau\n",
    "\n",
    "#early stopping to monitor the validation loss and avoid overfitting\n",
    "early_stop = EarlyStopping(monitor='val_loss', mode='min', verbose=1, patience=10, restore_best_weights=True)\n",
    "\n",
    "#reducing learning rate on plateau\n",
    "rlrop = ReduceLROnPlateau(monitor='val_loss', mode='min', patience= 5, factor= 0.2, min_lr= 1e-5)\n",
    "\n",
    "history = model.fit(X_train, y_train, epochs=15, batch_size=128, validation_data=(X_val, y_val),callbacks=[early_stop,rlrop])\n",
    "\n"
   ]
  },
  {
   "cell_type": "markdown",
   "id": "195c59bf80d2a2c4",
   "metadata": {
    "collapsed": false
   },
   "source": [
    "Plot the training history to visualize the model's learning progress. Your plot should include the training and validation loss."
   ]
  },
  {
   "cell_type": "code",
   "execution_count": 15,
   "id": "9e8cacec70d8f313",
   "metadata": {
    "id": "9e8cacec70d8f313"
   },
   "outputs": [
    {
     "data": {
      "image/png": "[encoded data removed]",
      "text/plain": [
       "<Figure size 640x480 with 1 Axes>"
      ]
     },
     "metadata": {},
     "output_type": "display_data"
    }
   ],
   "source": [
    "import matplotlib.pyplot as plt\n",
    "\n",
    "# Your code here\n",
    "\n",
    "# Plot the training history to visualize the model's learning progress\n",
    "plt.plot(history.history['loss'], label='Training Loss')\n",
    "plt.plot(history.history['val_loss'], label='Validation Loss')\n",
    "plt.legend()\n",
    "plt.show()"
   ]
  },
  {
   "cell_type": "markdown",
   "id": "3d9ed71305787aed",
   "metadata": {
    "collapsed": false
   },
   "source": [
    "# 3. Text Generation (Complete or Incomplete)\n",
    "\n",
    "Write a method called `generate_text` that uses the trained model to generate new text. The method should take the following parameters:\n",
    "\n",
    "*   `model`: The trained RNN model.\n",
    "*   `tokenizer`: The tokenizer used to pre-process the text data.\n",
    "*   `seed_text`: The seed text the model will use to generate new text.\n",
    "*   `max_sequence_len`: The maximum length of the sequence used to generate new text.\n",
    "\n",
    "The method should return the generated text.\n",
    "\n",
    "An overview of the text generation process you should follow:\n",
    "\n",
    "1. Tokenize the seed text using the tokenizer we built before.\n",
    "2. Pad the sequences to the same length as the training sequences - you can use the `pad_sequences` method from the `keras.preprocessing.sequence` module, which is documented [here](https://www.tensorflow.org/api_docs/python/tf/keras/preprocessing/sequence/pad_sequences).\n",
    "3. Use the model to predict the next token in the sequence. Remember that the model will output a probability distribution over the vocabulary, so you'll need to use `np.argmax` to find the token with the highest probability.\n",
    "4. Add the predicted token to the sequence and remove the first token.\n",
    "5. Repeat steps 3-4 until you have generated the desired number of tokens.\n",
    "6. Convert the generated token IDs back to words and return the combined result as a single string.\n",
    "\n",
    "This is a challenging task, so don't hesitate to ask for help if you need it. It's okay if the generated text doesn't make much sense yet - we'll work on improving the model next.\n",
    "As a bonus, you can make your method generate \"gpt-style\" by having it print out each word as it's generated, so you can see the text being generated in real time."
   ]
  },
  {
   "cell_type": "code",
   "execution_count": 23,
   "id": "d73dbf278a1265ef",
   "metadata": {
    "collapsed": false
   },
   "outputs": [],
   "source": [
    "from tensorflow.keras.preprocessing.sequence import pad_sequences\n",
    "\n",
    "def get_predicted_word(model, sequence):\n",
    "    \"\"\"\n",
    "    Get the predicted word from the model.\n",
    "    This helper function uses a concept we haven't covered in class yet: temperature.\n",
    "    In essence, a little bit of randomness in what word we predict can make the text more interesting.\n",
    "    \"\"\"\n",
    "\n",
    "    # Use the model to predict the next token in the sequence\n",
    "    yhat = model.predict(sequence, verbose=0)\n",
    "\n",
    "    # Get the index of the predicted word, according to the probabilities\n",
    "    yhat = np.argmax(yhat, axis=-1)\n",
    "\n",
    "    return yhat\n",
    "def sample_with_temperature(preds, temperature=1.0):\n",
    "    \"\"\"\n",
    "    Helper function to sample an index from a probability array reweighted by temperature.\n",
    "    \"\"\"\n",
    "    preds = np.asarray(preds).astype('float64')\n",
    "    preds = np.log(preds) / temperature\n",
    "    exp_preds = np.exp(preds)\n",
    "    preds = exp_preds / np.sum(exp_preds)\n",
    "    probas = np.random.multinomial(1, preds, 1)\n",
    "    return np.argmax(probas)\n",
    "\n",
    "def generate_text(model, tokenizer, seed_text, max_sequence_len, temperature=1.0):\n",
    "\n",
    "    \"\"\"\n",
    "    Generate new text using the trained model.\n",
    "    You can use the `get_predicted_word` helper function to help you with this.\n",
    "    \"\"\"    \n",
    "    input_text = seed_text.lower()\n",
    "    result=[]\n",
    "\n",
    "    for _ in range(max_sequence_len):\n",
    "        token_list = tokenizer.texts_to_sequences([input_text])[0]\n",
    "        token_list = pad_sequences([token_list], maxlen=SEQ_LENGTH, padding='pre')\n",
    "        predicted_probs = model.predict(token_list, verbose=0)[0]\n",
    "        predicted = sample_with_temperature(predicted_probs, temperature)\n",
    "        output_word = tokenizer.index_word.get(predicted, OOV_TOKEN)\n",
    "        input_text += ' ' + output_word\n",
    "        result.append(output_word)\n",
    "    return ' '.join(result)\n"
   ]
  },
  {
   "cell_type": "code",
   "execution_count": 24,
   "id": "f463b0c3df49e2c",
   "metadata": {
    "collapsed": false
   },
   "outputs": [
    {
     "name": "stdout",
     "output_type": "stream",
     "text": [
      "7 community cb61ixzf9xm 7i4waaabahrstlmaererererereiiiizmzmzm0rererererererevvvvvvvvzmzmzmzmznd3d3d3d3eiiiiiiiiimzmzmzmzqqqqqqqqqqqqu7u7u7u7u7u7u7u7u8zmzmzmzmzm3d3d3d3d3d3d3d3d3d3d3d3d3d3d3d3d3d3d7u7u7u7u7u7u7u7u7u7u src el8zsq3cxncdn8ze9anenotv bg jtml community 3f iuckiopdoc5mhin k8jwyyw4dbvfry5lffbqrvxj2 f z event wcrujuiepmh q 2fuoft g6agu3icegbawlbd2ciovtxqyzbojo3mgwiiynhkas5id searchsuggestionsdialog 5il73po0vpbzkwgrh2vhmfdco5na1ypljhwgmxxy sap0cvontth4rxl9onvrfjvumysdepf ael 3mw3xwjrql0ol exk0ex9pjk3r6ih4 cookie expected 0 auto da f0v9unufx 18dp ksux8hsatvc9wipyzagg fxbmtkggwuafyoonk59du955s nmkb5szjjzjnedguh6lpuk6btfivdiqwfwqr0avszz2g1m6fxdlryoquzzeqsvessau 7 tqvwjyt57 xkqogy7nwqqoq09hqsi9lzbngqdptln1oooq0vrpciremsdz a nuly9d2klkkmjk8t96yiyw8p3lk5ev j20 ieulhg483f9ug1alejzswkn3dz2xbativ1cxbden6b4ce1tc9gbtp 3vzevlfuq39ltvikggezvfzwhu999tmtdzitza6pt8toznlzuwbawxk51hogkwo1lypkkooqyst a5cxumue9ujhuhwirn2yblslplamf6v25h5s rsqna0gotg1i65adxuegpbxyhgkf14j2t6fbnrp29si1 kgan2zifbdxr2bjraclvlcdup8afigecgz7iwfubf mqox1bwrw7kigupl8vucfpmntjtkoq00alnvrxrawhaoyvxxbqa3dbri6bzahisi1ruq1gb7uqui2eg0uqugf6g 7opmm8gv6dpqiqbr1rlsghhynf9og0mqrleiynpow 4fo i6dz1faq2qqnbdrqcqtuplrfwlb8e2qgqxtrtwoisri0agpnfzfbis9nugaiubajnwu5gaajrhgkae6rxln96obigrazd0qmpi2fwqmbtpblfi7v6ame6qfjbapb4deajdyhntegclhtcbajhozzt7baqe4iukwaqpgk6igegww6fdcaeh\n"
     ]
    }
   ],
   "source": [
    "# Test the text generation function\n",
    "generate_text(model, tokenizer, 'hamlet', SEQ_LENGTH)\n",
    "\n",
    "print(generate_text(model, tokenizer, 'hamlet', SEQ_LENGTH))"
   ]
  },
  {
   "cell_type": "markdown",
   "id": "5871d836a0135c41",
   "metadata": {
    "collapsed": false
   },
   "source": [
    "It's likely that the text generated by your model doesn't make much sense yet. This is because the model hasn't been trained for very long, and the training dataset is relatively small. \n",
    "\n",
    "# 4. Model Refinement (Complete or Incomplete)\n",
    "\n",
    "In this last section, you'll work on improving your model. There are many ways to do this, but here are a few ideas to get you started:\n",
    "\n",
    "* Use pre-trained embeddings: the code below will help you to load pre-trained embeddings through Keras. \n",
    "* Experiment with different model architectures, including the number of layers, the number of units in each layer, and the use of dropout layers.\n",
    "* Train your model for longer. You can also experiment with different batch sizes.\n",
    "\n",
    "Implement and test out at least one of these ideas. If you have other ideas for improving the model, feel free to try them out as well."
   ]
  },
  {
   "cell_type": "code",
   "execution_count": 28,
   "id": "dda8b0f845c20862",
   "metadata": {
    "collapsed": false
   },
   "outputs": [
    {
     "name": "stderr",
     "output_type": "stream",
     "text": [
      "'wget' is not recognized as an internal or external command,\n",
      "operable program or batch file.\n",
      "'unzip' is not recognized as an internal or external command,\n",
      "operable program or batch file.\n"
     ]
    }
   ],
   "source": [
    "import requests\n",
    "import zipfile\n",
    "import os\n",
    "\n",
    "!wget https://downloads.cs.stanford.edu/nlp/data/glove.6B.zip\n",
    "!unzip glove.6B.zip"
   ]
  },
  {
   "cell_type": "code",
   "execution_count": 29,
   "id": "e8b777220505635",
   "metadata": {
    "collapsed": false
   },
   "outputs": [
    {
     "name": "stdout",
     "output_type": "stream",
     "text": [
      "Found 400000 word vectors.\n"
     ]
    }
   ],
   "source": [
    "# Load the pre-trained embeddings\n",
    "embeddings_index = {}\n",
    "try:\n",
    "    with open('glove.6B.100d.txt', encoding='utf-8') as f:\n",
    "        for line in f:\n",
    "            values = line.split()\n",
    "            word = values[0]\n",
    "            coefs = np.asarray(values[1:], dtype='float32')\n",
    "            embeddings_index[word] = coefs\n",
    "    print(f'Found {len(embeddings_index)} word vectors.')\n",
    "except FileNotFoundError:\n",
    "    print(\"'glove.6B.100d.txt' File not found. Please make sure you have ran the previous cell.\")"
   ]
  },
  {
   "cell_type": "code",
   "execution_count": 30,
   "id": "d3e48ff004757cf2",
   "metadata": {
    "collapsed": false
   },
   "outputs": [],
   "source": [
    "# Check if VOCAB_SIZE is set\n",
    "if VOCAB_SIZE is None:\n",
    "    print(\"You need to complete the previous parts of your assignment in order for this to work.\")\n",
    "else:\n",
    "    # Create an embedding matrix\n",
    "    embedding_matrix = np.zeros((VOCAB_SIZE, 100))\n",
    "    for word, i in tokenizer.word_index.items():\n",
    "        if i < VOCAB_SIZE:\n",
    "            embedding_vector = embeddings_index.get(word)\n",
    "            if embedding_vector is not None:\n",
    "                embedding_matrix[i] = embedding_vector"
   ]
  },
  {
   "cell_type": "code",
   "execution_count": 31,
   "id": "e3d21d5dbbbcf9f9",
   "metadata": {
    "collapsed": false
   },
   "outputs": [],
   "source": [
    "# Check if VOCAB_SIZE is set\n",
    "if VOCAB_SIZE is None:\n",
    "    print(\"You need to complete the previous parts of your assignment in order for this to work.\")\n",
    "else:\n",
    "    embedding_layer = Embedding(\n",
    "        VOCAB_SIZE, 100, weights=[embedding_matrix], input_length=SEQ_LENGTH, trainable=False\n",
    "    )"
   ]
  },
  {
   "cell_type": "code",
   "execution_count": 37,
   "id": "236cb723e4e5b3fc",
   "metadata": {
    "collapsed": false
   },
   "outputs": [
    {
     "name": "stdout",
     "output_type": "stream",
     "text": [
      "Epoch 1/50\n",
      "198/198 [==============================] - 112s 559ms/step - loss: 4.4361 - accuracy: 0.1838 - val_loss: 5.4200 - val_accuracy: 0.1932 - lr: 1.0000e-04\n",
      "Epoch 2/50\n",
      "198/198 [==============================] - 151s 761ms/step - loss: 4.3090 - accuracy: 0.1941 - val_loss: 5.4658 - val_accuracy: 0.1916 - lr: 1.0000e-04\n",
      "Epoch 3/50\n",
      "198/198 [==============================] - 154s 777ms/step - loss: 4.1893 - accuracy: 0.1971 - val_loss: 5.5788 - val_accuracy: 0.1992 - lr: 1.0000e-04\n",
      "Epoch 4/50\n",
      "198/198 [==============================] - 144s 728ms/step - loss: 4.0614 - accuracy: 0.2003 - val_loss: 5.7039 - val_accuracy: 0.2055 - lr: 1.0000e-04\n",
      "Epoch 5/50\n",
      "198/198 [==============================] - 135s 680ms/step - loss: 3.9352 - accuracy: 0.2092 - val_loss: 5.8589 - val_accuracy: 0.2122 - lr: 1.0000e-04\n",
      "Epoch 6/50\n",
      "198/198 [==============================] - 147s 743ms/step - loss: 3.8083 - accuracy: 0.2183 - val_loss: 6.0871 - val_accuracy: 0.2190 - lr: 1.0000e-04\n",
      "Epoch 7/50\n",
      "198/198 [==============================] - 140s 706ms/step - loss: 3.6766 - accuracy: 0.2295 - val_loss: 6.1803 - val_accuracy: 0.2256 - lr: 2.0000e-05\n",
      "Epoch 8/50\n",
      "198/198 [==============================] - 154s 778ms/step - loss: 3.6438 - accuracy: 0.2347 - val_loss: 6.2049 - val_accuracy: 0.2253 - lr: 2.0000e-05\n",
      "Epoch 9/50\n",
      "198/198 [==============================] - 122s 620ms/step - loss: 3.6207 - accuracy: 0.2352 - val_loss: 6.3128 - val_accuracy: 0.2286 - lr: 2.0000e-05\n",
      "Epoch 10/50\n",
      "198/198 [==============================] - 136s 688ms/step - loss: 3.5909 - accuracy: 0.2401 - val_loss: 6.3446 - val_accuracy: 0.2298 - lr: 2.0000e-05\n",
      "Epoch 11/50\n",
      "198/198 [==============================] - 142s 719ms/step - loss: 3.5674 - accuracy: 0.2409 - val_loss: 6.3898 - val_accuracy: 0.2293 - lr: 2.0000e-05\n",
      "Epoch 12/50\n",
      "198/198 [==============================] - 141s 715ms/step - loss: 3.5404 - accuracy: 0.2439 - val_loss: 6.4229 - val_accuracy: 0.2310 - lr: 1.0000e-05\n",
      "Epoch 13/50\n",
      "198/198 [==============================] - 149s 750ms/step - loss: 3.5278 - accuracy: 0.2487 - val_loss: 6.4535 - val_accuracy: 0.2291 - lr: 1.0000e-05\n",
      "Epoch 14/50\n",
      "198/198 [==============================] - 145s 733ms/step - loss: 3.5109 - accuracy: 0.2454 - val_loss: 6.4915 - val_accuracy: 0.2307 - lr: 1.0000e-05\n",
      "Epoch 15/50\n",
      "198/198 [==============================] - 145s 731ms/step - loss: 3.5036 - accuracy: 0.2479 - val_loss: 6.5074 - val_accuracy: 0.2312 - lr: 1.0000e-05\n",
      "Epoch 16/50\n",
      "198/198 [==============================] - 143s 725ms/step - loss: 3.4877 - accuracy: 0.2510 - val_loss: 6.5708 - val_accuracy: 0.2332 - lr: 1.0000e-05\n",
      "Epoch 17/50\n",
      "198/198 [==============================] - 142s 717ms/step - loss: 3.4767 - accuracy: 0.2528 - val_loss: 6.5825 - val_accuracy: 0.2325 - lr: 1.0000e-05\n",
      "Epoch 18/50\n",
      "198/198 [==============================] - 163s 825ms/step - loss: 3.4653 - accuracy: 0.2515 - val_loss: 6.6324 - val_accuracy: 0.2329 - lr: 1.0000e-05\n",
      "Epoch 19/50\n",
      "198/198 [==============================] - 135s 686ms/step - loss: 3.4513 - accuracy: 0.2551 - val_loss: 6.6475 - val_accuracy: 0.2348 - lr: 1.0000e-05\n",
      "Epoch 20/50\n",
      "198/198 [==============================] - 155s 783ms/step - loss: 3.4430 - accuracy: 0.2523 - val_loss: 6.6671 - val_accuracy: 0.2337 - lr: 1.0000e-05\n",
      "Epoch 21/50\n",
      "198/198 [==============================] - 117s 593ms/step - loss: 3.4300 - accuracy: 0.2568 - val_loss: 6.7157 - val_accuracy: 0.2367 - lr: 1.0000e-05\n",
      "Epoch 22/50\n",
      "198/198 [==============================] - 156s 789ms/step - loss: 3.4188 - accuracy: 0.2561 - val_loss: 6.7392 - val_accuracy: 0.2361 - lr: 1.0000e-05\n",
      "Epoch 23/50\n",
      "198/198 [==============================] - 147s 740ms/step - loss: 3.4041 - accuracy: 0.2611 - val_loss: 6.7762 - val_accuracy: 0.2375 - lr: 1.0000e-05\n",
      "Epoch 24/50\n",
      "198/198 [==============================] - 141s 714ms/step - loss: 3.3970 - accuracy: 0.2575 - val_loss: 6.8125 - val_accuracy: 0.2386 - lr: 1.0000e-05\n",
      "Epoch 25/50\n",
      "198/198 [==============================] - 146s 739ms/step - loss: 3.3797 - accuracy: 0.2635 - val_loss: 6.8537 - val_accuracy: 0.2372 - lr: 1.0000e-05\n",
      "Epoch 26/50\n",
      "198/198 [==============================] - 150s 761ms/step - loss: 3.3761 - accuracy: 0.2594 - val_loss: 6.8452 - val_accuracy: 0.2401 - lr: 1.0000e-05\n",
      "Epoch 27/50\n",
      "198/198 [==============================] - 145s 734ms/step - loss: 3.3601 - accuracy: 0.2621 - val_loss: 6.8834 - val_accuracy: 0.2399 - lr: 1.0000e-05\n",
      "Epoch 28/50\n",
      "198/198 [==============================] - 172s 870ms/step - loss: 3.3527 - accuracy: 0.2638 - val_loss: 6.9159 - val_accuracy: 0.2416 - lr: 1.0000e-05\n",
      "Epoch 29/50\n",
      "198/198 [==============================] - 138s 696ms/step - loss: 3.3397 - accuracy: 0.2645 - val_loss: 6.9358 - val_accuracy: 0.2416 - lr: 1.0000e-05\n",
      "Epoch 30/50\n",
      "198/198 [==============================] - 145s 731ms/step - loss: 3.3294 - accuracy: 0.2669 - val_loss: 6.9783 - val_accuracy: 0.2428 - lr: 1.0000e-05\n",
      "Epoch 31/50\n",
      "198/198 [==============================] - 139s 704ms/step - loss: 3.3195 - accuracy: 0.2656 - val_loss: 6.9793 - val_accuracy: 0.2443 - lr: 1.0000e-05\n",
      "Epoch 32/50\n",
      "198/198 [==============================] - 144s 729ms/step - loss: 3.3117 - accuracy: 0.2646 - val_loss: 7.0178 - val_accuracy: 0.2472 - lr: 1.0000e-05\n",
      "Epoch 33/50\n",
      "198/198 [==============================] - 142s 716ms/step - loss: 3.2935 - accuracy: 0.2706 - val_loss: 7.0640 - val_accuracy: 0.2461 - lr: 1.0000e-05\n",
      "Epoch 34/50\n",
      "198/198 [==============================] - 146s 739ms/step - loss: 3.2923 - accuracy: 0.2659 - val_loss: 7.0861 - val_accuracy: 0.2464 - lr: 1.0000e-05\n",
      "Epoch 35/50\n",
      "198/198 [==============================] - 140s 709ms/step - loss: 3.2768 - accuracy: 0.2720 - val_loss: 7.1054 - val_accuracy: 0.2459 - lr: 1.0000e-05\n",
      "Epoch 36/50\n",
      "198/198 [==============================] - 142s 715ms/step - loss: 3.2675 - accuracy: 0.2707 - val_loss: 7.1588 - val_accuracy: 0.2447 - lr: 1.0000e-05\n",
      "Epoch 37/50\n",
      "198/198 [==============================] - 129s 653ms/step - loss: 3.2569 - accuracy: 0.2754 - val_loss: 7.1678 - val_accuracy: 0.2478 - lr: 1.0000e-05\n",
      "Epoch 38/50\n",
      "198/198 [==============================] - 50s 253ms/step - loss: 3.2510 - accuracy: 0.2726 - val_loss: 7.2047 - val_accuracy: 0.2429 - lr: 1.0000e-05\n",
      "Epoch 39/50\n",
      "198/198 [==============================] - 62s 314ms/step - loss: 3.2357 - accuracy: 0.2740 - val_loss: 7.2119 - val_accuracy: 0.2502 - lr: 1.0000e-05\n",
      "Epoch 40/50\n",
      "198/198 [==============================] - 57s 286ms/step - loss: 3.2242 - accuracy: 0.2759 - val_loss: 7.2376 - val_accuracy: 0.2494 - lr: 1.0000e-05\n",
      "Epoch 41/50\n",
      "198/198 [==============================] - 118s 595ms/step - loss: 3.2147 - accuracy: 0.2767 - val_loss: 7.2884 - val_accuracy: 0.2485 - lr: 1.0000e-05\n",
      "Epoch 42/50\n",
      "198/198 [==============================] - 53s 270ms/step - loss: 3.2058 - accuracy: 0.2765 - val_loss: 7.3048 - val_accuracy: 0.2511 - lr: 1.0000e-05\n",
      "Epoch 43/50\n",
      "198/198 [==============================] - 59s 300ms/step - loss: 3.2001 - accuracy: 0.2790 - val_loss: 7.3273 - val_accuracy: 0.2515 - lr: 1.0000e-05\n",
      "Epoch 44/50\n",
      "198/198 [==============================] - 90s 455ms/step - loss: 3.1869 - accuracy: 0.2790 - val_loss: 7.3387 - val_accuracy: 0.2523 - lr: 1.0000e-05\n",
      "Epoch 45/50\n",
      "198/198 [==============================] - 83s 420ms/step - loss: 3.1790 - accuracy: 0.2807 - val_loss: 7.3734 - val_accuracy: 0.2513 - lr: 1.0000e-05\n",
      "Epoch 46/50\n",
      "198/198 [==============================] - 81s 407ms/step - loss: 3.1684 - accuracy: 0.2815 - val_loss: 7.4024 - val_accuracy: 0.2510 - lr: 1.0000e-05\n",
      "Epoch 47/50\n",
      "198/198 [==============================] - 104s 525ms/step - loss: 3.1554 - accuracy: 0.2835 - val_loss: 7.4202 - val_accuracy: 0.2521 - lr: 1.0000e-05\n",
      "Epoch 48/50\n",
      "198/198 [==============================] - 97s 492ms/step - loss: 3.1500 - accuracy: 0.2805 - val_loss: 7.4573 - val_accuracy: 0.2550 - lr: 1.0000e-05\n",
      "Epoch 49/50\n",
      "198/198 [==============================] - 233s 1s/step - loss: 3.1414 - accuracy: 0.2845 - val_loss: 7.4525 - val_accuracy: 0.2535 - lr: 1.0000e-05\n",
      "Epoch 50/50\n",
      "198/198 [==============================] - 227s 1s/step - loss: 3.1259 - accuracy: 0.2851 - val_loss: 7.4806 - val_accuracy: 0.2551 - lr: 1.0000e-05\n"
     ]
    }
   ],
   "source": [
    "# Define a new model and train it\n",
    "\n",
    "# Your code here\n",
    "\n",
    "from keras.layers import Embedding, LSTM, Dense, Dropout, GRU, Bidirectional, LayerNormalization\n",
    "\n",
    "new_model = Sequential([\n",
    "        # Embedding layer with pre-trained GloVe embeddings\n",
    "        embedding_layer,\n",
    "\n",
    "        # Bidirectional LSTM layer\n",
    "        Bidirectional(LSTM(256, return_sequences=True)),\n",
    "        Dropout(0.3),\n",
    "        LayerNormalization(),\n",
    "        \n",
    "        # Additional Bidirectional LSTM layer\n",
    "        Bidirectional(LSTM(256, return_sequences=True)),\n",
    "        Dropout(0.3),\n",
    "        LayerNormalization(),\n",
    "        \n",
    "        # GRU layer\n",
    "        GRU(256),\n",
    "        Dropout(0.3),\n",
    "        \n",
    "        # Dense layers\n",
    "        Dense(256, activation='relu'),\n",
    "        Dropout(0.3),\n",
    "        LayerNormalization(),\n",
    "        \n",
    "        Dense(VOCAB_SIZE, activation='softmax')\n",
    "    ])\n",
    "learning_rate = 0.0001  # Adjust this value as needed\n",
    "optimizer = Adam(learning_rate=learning_rate)\n",
    "\n",
    "model.compile(loss='categorical_crossentropy', optimizer=optimizer, metrics=['accuracy'])\n",
    "new_history = model.fit(X_train, y_train, epochs=50, batch_size=128, validation_data=(X_val, y_val), callbacks=[rlrop])\n",
    "\n",
    "\n"
   ]
  },
  {
   "cell_type": "markdown",
   "id": "742095fb",
   "metadata": {},
   "source": [
    "## Criteria\n",
    "\n",
    "|Criteria|Complete|Incomplete|\n",
    "|----|----|----|\n",
    "|Task 1|The task has been completed successfully and there are no errors.|The task is still incomplete and there is at least one error.|\n",
    "|Task 2|The task has been completed successfully and there are no errors.|The task is still incomplete and there is at least one error.|\n",
    "|Task 3|The task has been completed successfully and there are no errors.|The task is still incomplete and there is at least one error.|\n",
    "|Task 4|The task has been completed successfully and there are no errors.|The task is still incomplete and there is at least one error.|"
   ]
  },
  {
   "cell_type": "markdown",
   "id": "1990e2d2",
   "metadata": {},
   "source": [
    "## Submission Information\n",
    "\n",
    "🚨**Please review our [Assignment Submission Guide](https://github.com/UofT-DSI/onboarding/blob/main/onboarding_documents/submissions.md)**🚨 for detailed instructions on how to format, branch, and submit your work. Following these guidelines is crucial for your submissions to be evaluated correctly.\n",
    "\n",
    "### Submission Parameters:\n",
    "* Submission Due Date: `HH:MM AM/PM - DD/MM/YYYY`\n",
    "* The branch name for your repo should be: `assignment-2`\n",
    "* What to submit for this assignment:\n",
    "    * This Jupyter Notebook (assignment_2.ipynb) should be populated and should be the only change in your pull request.\n",
    "* What the pull request link should look like for this assignment: `https://github.com/<your_github_username>/deep_learning/pull/<pr_id>`\n",
    "    * Open a private window in your browser. Copy and paste the link to your pull request into the address bar. Make sure you can see your pull request properly. This helps the technical facilitator and learning support staff review your submission easily.\n",
    "\n",
    "Checklist:\n",
    "- [ ] Created a branch with the correct naming convention.\n",
    "- [ ] Ensured that the repository is public.\n",
    "- [ ] Reviewed the PR description guidelines and adhered to them.\n",
    "- [ ] Verify that the link is accessible in a private browser window.\n",
    "\n",
    "If you encounter any difficulties or have questions, please don't hesitate to reach out to our team via our Slack at `#cohort-3-help`. Our Technical Facilitators and Learning Support staff are here to help you navigate any challenges."
   ]
  }
 ],
 "metadata": {
  "accelerator": "GPU",
  "colab": {
   "gpuType": "T4",
   "provenance": []
  },
  "kernelspec": {
   "display_name": "Python 3 (ipykernel)",
   "language": "python",
   "name": "python3"
  },
  "language_info": {
   "codemirror_mode": {
    "name": "ipython",
    "version": 3
   },
   "file_extension": ".py",
   "mimetype": "text/x-python",
   "name": "python",
   "nbconvert_exporter": "python",
   "pygments_lexer": "ipython3",
   "version": "3.9.15"
  }
 },
 "nbformat": 4,
 "nbformat_minor": 5
}
