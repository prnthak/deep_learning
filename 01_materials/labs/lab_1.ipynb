{
 "cells": [
  {
   "cell_type": "markdown",
   "metadata": {},
   "source": [
    "# Training Neural Networks with Keras\n",
    "\n",
    "Welcome to the first practical session of the course! In this session, we will learn how to train neural networks with Keras. We will start with a simple example of a feedforward neural network for classification and then we will study the impact of the initialization of the weights on the convergence of the training algorithm.\n",
    "\n",
    "Keras is a high-level neural network API, built on top of TensorFlow 2.0. It provides a user-friendly interface to build, train and deploy deep learning models. Keras is designed to be modular, fast and easy to use.\n",
    "\n",
    "Throughout this course, we will focus on using Keras and TensorFlow for building and training neural networks. However, there are other popular deep learning frameworks such as PyTorch, MXNet, CNTK, etc. that you can also use to build and train neural networks.\n",
    "\n",
    "In order to use our code on Google Colab, we will need to ensure that any required packages are installed. We will use the following packages in this session:\n",
    "\n",
    "- `tensorflow`: an open-source library for numerical computation and large-scale machine learning.\n",
    "- `matplotlib`: a plotting library for the Python programming language and its numerical mathematics extension NumPy.\n",
    "- `numpy`: a library for scientific computing in Python.\n",
    "- `scikit-learn`: a machine learning library for the Python programming language.\n",
    "- `pandas`: a library providing high-performance, easy-to-use data structures and data analysis tools for the Python programming language.\n",
    "\n",
    "The following cell will check if the packages are installed, and if not, it will install them. Students familiar with how pip works might note that it already checks this before installing! The reason for this code (which will also appear in subsequent notebooks) is to speed up execution if you re-run the entire notebook - it will skip the installation step if the packages are already installed."
   ]
  },
  {
   "cell_type": "markdown",
   "metadata": {
    "collapsed": false
   },
   "source": [
    "With the packages installed, we can now get started on the practical session!\n",
    "\n",
    "Today, we will be working with the famous MNIST dataset. MNIST (Modified National Institute of Standards and Technology) is a database of low resolution images of handwritten digits. The history here is interesting - the dataset was originally created in the 1980s, when researchers from the aforementioned institute collected samples from American Census Bureau employees and high school students. The dataset was then modified in the 1990s (hence the M in MNIST), and has since become a popular benchmark for machine learning algorithms. \n",
    "\n",
    "The dataset contains images, each of which is a 28x28 grayscale image of a handwritten digit. The goal is to classify each image into one of the 10 possible classes (0-9).\n",
    "\n",
    "![MNIST](https://upload.wikimedia.org/wikipedia/commons/2/27/MnistExamples.png)\n",
    "\n",
    "The Scikit-Learn library provides a convenient function to download and load the MNIST dataset. The following cell will download the dataset. Then we will take a look at the shape of the data."
   ]
  },
  {
   "cell_type": "code",
   "execution_count": 3,
   "metadata": {},
   "outputs": [],
   "source": [
    "import matplotlib.pyplot as plt\n",
    "import numpy as np\n",
    "\n",
    "from sklearn.datasets import load_digits\n",
    "\n",
    "digits = load_digits()"
   ]
  },
  {
   "cell_type": "code",
   "execution_count": 4,
   "metadata": {},
   "outputs": [
    {
     "data": {
      "text/plain": [
       "(1797, 8, 8)"
      ]
     },
     "execution_count": 4,
     "metadata": {},
     "output_type": "execute_result"
    }
   ],
   "source": [
    "digits.images.shape"
   ]
  },
  {
   "cell_type": "markdown",
   "metadata": {
    "collapsed": false
   },
   "source": [
    "This means that we have 1797 images, each of which is a 8x8 image. For basic image processing, we will need to flatten the images into a 1D array. In this case, Scikit-Learn has already provided the data in this format too:"
   ]
  },
  {
   "cell_type": "code",
   "execution_count": 5,
   "metadata": {},
   "outputs": [
    {
     "data": {
      "text/plain": [
       "(1797, 64)"
      ]
     },
     "execution_count": 5,
     "metadata": {},
     "output_type": "execute_result"
    }
   ],
   "source": [
    "digits.data.shape"
   ]
  },
  {
   "cell_type": "markdown",
   "metadata": {
    "collapsed": false
   },
   "source": [
    "For each image, we also have the corresponding label (or target, or class) in `digits.target`:"
   ]
  },
  {
   "cell_type": "code",
   "execution_count": 6,
   "metadata": {},
   "outputs": [
    {
     "data": {
      "text/plain": [
       "(1797,)"
      ]
     },
     "execution_count": 6,
     "metadata": {},
     "output_type": "execute_result"
    }
   ],
   "source": [
    "digits.target.shape"
   ]
  },
  {
   "cell_type": "markdown",
   "metadata": {
    "collapsed": false
   },
   "source": [
    "We can take a look at some random images from the dataset. The following cell will select 9 random images and plot them in a 3x3 grid (meaning that you can rerun the cell to see different images)."
   ]
  },
  {
   "cell_type": "code",
   "execution_count": 7,
   "metadata": {},
   "outputs": [
    {
     "data": {
      "image/png": "[encoded data removed]",
      "text/plain": [
       "<Figure size 600x600 with 9 Axes>"
      ]
     },
     "metadata": {},
     "output_type": "display_data"
    }
   ],
   "source": [
    "# Selecting 9 random indices\n",
    "random_indices = np.random.choice(len(digits.images), 9, replace=False)\n",
    "\n",
    "# Creating a 3x3 grid plot\n",
    "fig, axes = plt.subplots(3, 3, figsize=(6, 6))\n",
    "\n",
    "for i, ax in enumerate(axes.flat):\n",
    "    ax.imshow(digits.images[random_indices[i]], cmap=plt.cm.gray_r, interpolation='nearest')\n",
    "    ax.set_title(f\"Label: {digits.target[random_indices[i]]}\")\n",
    "\n",
    "    # Removing axis labels\n",
    "    ax.set_xticks([])\n",
    "    ax.set_yticks([])\n",
    "\n",
    "plt.show()"
   ]
  },
  {
   "cell_type": "markdown",
   "metadata": {
    "collapsed": false
   },
   "source": [
    "As you can see, these images are very low resolution. This is because they were originally scanned from paper forms, and then scaled down to 8x8 pixels. This is a common problem in machine learning - the quality of the data is often a limiting factor in the performance of the model. In this case, the low resolution of the images makes it difficult to distinguish between some digits, even for humans. For example, the following images are all labelled as 9, but they look very different:"
   ]
  },
  {
   "cell_type": "code",
   "execution_count": 8,
   "metadata": {
    "collapsed": false
   },
   "outputs": [
    {
     "data": {
      "image/png": "[encoded data removed]",
      "text/plain": [
       "<Figure size 600x600 with 9 Axes>"
      ]
     },
     "metadata": {},
     "output_type": "display_data"
    }
   ],
   "source": [
    "# Selecting 9 random indices of images labelled as 9\n",
    "random_indices = np.random.choice(np.where(digits.target == 1)[0], 9, replace=False)\n",
    "\n",
    "# Creating a 3x3 grid plot\n",
    "fig, axes = plt.subplots(3, 3, figsize=(6, 6))\n",
    "\n",
    "for i, ax in enumerate(axes.flat):\n",
    "    ax.imshow(digits.images[random_indices[i]], cmap=plt.cm.gray_r, interpolation='nearest')\n",
    "    ax.set_title(f\"Label: {digits.target[random_indices[i]]}\")\n",
    "\n",
    "    # Removing axis labels\n",
    "    ax.set_xticks([])\n",
    "    ax.set_yticks([])\n",
    "    \n",
    "plt.show()"
   ]
  },
  {
   "cell_type": "markdown",
   "metadata": {
    "collapsed": false
   },
   "source": [
    "While we are plotting the samples as images, remember that our model is only going to see a 1D array of numbers. "
   ]
  },
  {
   "cell_type": "markdown",
   "metadata": {},
   "source": [
    "## Train / Test Split\n",
    "\n",
    "In order to understand how well our model performs on _new_ data, we need to split our dataset into a training set and a test set. The training set will be used to train the model, and the test set will be used to evaluate the performance of the model.\n",
    "\n",
    "Let's keep some held-out data to be able to measure the generalization performance of our model. "
   ]
  },
  {
   "cell_type": "code",
   "execution_count": 9,
   "metadata": {},
   "outputs": [],
   "source": [
    "from sklearn.model_selection import train_test_split\n",
    "\n",
    "\n",
    "X_train, X_test, y_train, y_test = train_test_split(\n",
    "    digits.data, \n",
    "    digits.target,\n",
    "    test_size=0.2, # 20% of the data is used for testing\n",
    "    random_state=42 # Providing a value here means getting the same \"random\" split every time\n",
    ")"
   ]
  },
  {
   "cell_type": "markdown",
   "metadata": {
    "collapsed": false
   },
   "source": [
    "Let's confirm that the data has been split correctly:"
   ]
  },
  {
   "cell_type": "code",
   "execution_count": 10,
   "metadata": {
    "collapsed": false
   },
   "outputs": [
    {
     "name": "stdout",
     "output_type": "stream",
     "text": [
      "X_train shape: (1437, 64)\n",
      "y_train shape: (1437,)\n",
      "X_test shape: (360, 64)\n",
      "y_test shape: (360,)\n"
     ]
    }
   ],
   "source": [
    "print(f'X_train shape: {X_train.shape}')\n",
    "print(f'y_train shape: {y_train.shape}')\n",
    "print(f'X_test shape: {X_test.shape}')\n",
    "print(f'y_test shape: {y_test.shape}')"
   ]
  },
  {
   "cell_type": "markdown",
   "metadata": {
    "collapsed": false
   },
   "source": [
    "This is what we expected to see. It's always good to check as you go, to make sure that you haven't made a mistake somewhere - this is something that working in a notebook like this makes it easy to do."
   ]
  },
  {
   "cell_type": "markdown",
   "metadata": {},
   "source": [
    "## Preprocessing of the Target Data\n",
    "\n",
    "The labels that we have are integers between 0 and 9. However, we want to train a neural network to classify the images into one of 10 classes. It can be a little counter-intuitive because we are dealing with numbers, but our classes are not ordinal.\n",
    "\n",
    "What do we mean by that? Let's imagine we were trying to predict the height of a building (separated into classes) from images. If a given building was actually 10m tall, and our model predicted 9m, we would consider that to be a better prediction than if it predicted 1m. This is because the classes are ordinal - there is meaning in the difference between the classes.\n",
    "\n",
    "In our case, even though we are dealing with numbers, the classes are not ordinal. If a given image is actually a 9, and our model predicts 8, we would consider that to be just as bad as if it predicted 1. This is because the classes are not ordered, and the difference between the classes is not meaningful.\n",
    "\n",
    "Because of this, we need to convert our labels from an integer value into a one-hot encoded vector. This means that each label will be represented as a vector of length 10, with a 1 in the position corresponding to the class, and 0s everywhere else. For example, the label 9 would be represented as `[0, 0, 0, 0, 0, 0, 0, 0, 0, 1]`. This is a common way of representing categorical data in machine learning. By doing this, we ensure that our model is taught the correct relationship between the classes."
   ]
  },
  {
   "cell_type": "code",
   "execution_count": 11,
   "metadata": {},
   "outputs": [
    {
     "name": "stdout",
     "output_type": "stream",
     "text": [
      "Before one-hot encoding: 6\n",
      "After one-hot encoding: [0. 0. 0. 0. 0. 0. 1. 0. 0. 0.]\n"
     ]
    }
   ],
   "source": [
    "from tensorflow.keras.utils import to_categorical\n",
    "\n",
    "print(f'Before one-hot encoding: {y_train[0]}')\n",
    "y_train = to_categorical(y_train, num_classes=10)\n",
    "y_test = to_categorical(y_test, num_classes=10)\n",
    "print(f'After one-hot encoding: {y_train[0]}')"
   ]
  },
  {
   "cell_type": "markdown",
   "metadata": {},
   "source": [
    "## Feed Forward Neural Networks with Keras\n",
    "\n",
    "Now that we have prepared our data, it's time to build a simple neural network! In this section, we will use the Keras API to build a simple feed forward neural network. We will then train the model on the MNIST dataset, and evaluate its performance on the test set.\n",
    "\n",
    "In most modern deep learning frameworks, the process of building a model can be broken down into a few steps:\n",
    "\n",
    "- Define the model architecture: this is where we define the layers of the model, and how they are connected to each other.\n",
    "- Compile the model: this is where we define the loss function, the optimizer, and the metrics that we want to use to evaluate the model.\n",
    "- Train the model: this is where we train the model on the training data.\n",
    "\n",
    "Let's start with defining the model architecture. There are two ways to do this in Keras - the Sequential API and the Functional API. The Sequential API is the simplest way to build a model, and is suitable for most use cases. The Functional API is more flexible, and allows you to build more complex models. We will start with the Sequential API, and then we will look at the Functional API later in the course.\n",
    "\n",
    "Our simple neural network will be \"fully-connected\". This means that each neuron in a given layer is connected to every neuron in the next layer. This is also known as a \"dense\" layer. We will use the `Dense` class from Keras to define our layers."
   ]
  },
  {
   "cell_type": "code",
   "execution_count": 12,
   "metadata": {
    "collapsed": false
   },
   "outputs": [
    {
     "name": "stdout",
     "output_type": "stream",
     "text": [
      "Model: \"sequential\"\n",
      "_________________________________________________________________\n",
      " Layer (type)                Output Shape              Param #   \n",
      "=================================================================\n",
      " dense (Dense)               (None, 64)                4160      \n",
      "                                                                 \n",
      " dense_1 (Dense)             (None, 64)                4160      \n",
      "                                                                 \n",
      " dense_2 (Dense)             (None, 10)                650       \n",
      "                                                                 \n",
      "=================================================================\n",
      "Total params: 8,970\n",
      "Trainable params: 8,970\n",
      "Non-trainable params: 0\n",
      "_________________________________________________________________\n"
     ]
    }
   ],
   "source": [
    "from tensorflow.keras.models import Sequential\n",
    "from tensorflow.keras.layers import Dense\n",
    "\n",
    "model = Sequential()\n",
    "\n",
    "# Input layer\n",
    "model.add(Dense(64, activation='relu', input_shape=(64,))) # 64 neurons, ReLU activation, input shape of 64\n",
    "\n",
    "# Hidden layer\n",
    "model.add(Dense(64, activation='relu')) # 64 neurons, ReLU activation\n",
    "\n",
    "# Output layer\n",
    "model.add(Dense(10, activation='softmax')) # 10 neurons, softmax activation\n",
    "\n",
    "model.summary()"
   ]
  },
  {
   "cell_type": "markdown",
   "metadata": {
    "collapsed": false
   },
   "source": [
    "Congratulations! You have just built your first neural network with Keras. As we can confirm from the `model.summary()` output, our model has 3 layers. The first layer has 64 neurons, the second layer has 64 neurons, and the output layer has 10 neurons. The output layer uses the softmax activation function, which is commonly used for multi-class classification problems. The other layers use the ReLU activation function, which is commonly used for hidden layers in neural networks.\n",
    "\n",
    "Next, we need to compile the model. This is where we define the loss function, the optimizer, and the metrics that we want to use to evaluate the model. We will use the `compile` method of the model to do this."
   ]
  },
  {
   "cell_type": "code",
   "execution_count": 13,
   "metadata": {
    "collapsed": false
   },
   "outputs": [],
   "source": [
    "model.compile(\n",
    "    loss='categorical_crossentropy', # Loss function\n",
    "    optimizer='sgd', # Optimizer\n",
    "    metrics=['accuracy'] # Metrics to evaluate the model\n",
    ")"
   ]
  },
  {
   "cell_type": "markdown",
   "metadata": {
    "collapsed": false
   },
   "source": [
    "Because we are predicting which class a sample belongs to, we will use the `categorical_crossentropy` function. This loss function is commonly used for multi-class classification problems. \n",
    "\n",
    "For our optimizer, we are using the standard stochastic gradient descent (SGD) algorithm. This is a simple optimizer that works well for many problems. We will look at more advanced optimizers later in the course.\n",
    "\n",
    "Finally, we are using the `accuracy` metric to evaluate the model. This is a common metric for classification problems, and it is simply the fraction of samples that are correctly classified. This is an easier metric for us to understand, but it's not quite as useful for actually training the model (for example, it doesn't tell us how \"confident\" the model is in its predictions).\n",
    "\n",
    "Now that we have (a) defined the model architecture and (b) compiled the model, we are ready to train the model. We will use the `fit` method of the model to do this."
   ]
  },
  {
   "cell_type": "code",
   "execution_count": 14,
   "metadata": {
    "collapsed": false
   },
   "outputs": [
    {
     "name": "stdout",
     "output_type": "stream",
     "text": [
      "Epoch 1/15\n",
      "36/36 [==============================] - 8s 193ms/step - loss: 2.1786 - accuracy: 0.5405 - val_loss: 0.6943 - val_accuracy: 0.7535\n",
      "Epoch 2/15\n",
      "36/36 [==============================] - 1s 31ms/step - loss: 0.4872 - accuracy: 0.8416 - val_loss: 0.4455 - val_accuracy: 0.8438\n",
      "Epoch 3/15\n",
      "36/36 [==============================] - 1s 26ms/step - loss: 0.2988 - accuracy: 0.9208 - val_loss: 0.3511 - val_accuracy: 0.8681\n",
      "Epoch 4/15\n",
      "36/36 [==============================] - 1s 19ms/step - loss: 0.2260 - accuracy: 0.9391 - val_loss: 0.3422 - val_accuracy: 0.8542\n",
      "Epoch 5/15\n",
      "36/36 [==============================] - 1s 17ms/step - loss: 0.1896 - accuracy: 0.9469 - val_loss: 0.2633 - val_accuracy: 0.9062\n",
      "Epoch 6/15\n",
      "36/36 [==============================] - 1s 25ms/step - loss: 0.1562 - accuracy: 0.9600 - val_loss: 0.2408 - val_accuracy: 0.9132\n",
      "Epoch 7/15\n",
      "36/36 [==============================] - 1s 20ms/step - loss: 0.1290 - accuracy: 0.9626 - val_loss: 0.2133 - val_accuracy: 0.9132\n",
      "Epoch 8/15\n",
      "36/36 [==============================] - 1s 19ms/step - loss: 0.1158 - accuracy: 0.9678 - val_loss: 0.2182 - val_accuracy: 0.9236\n",
      "Epoch 9/15\n",
      "36/36 [==============================] - 1s 21ms/step - loss: 0.1058 - accuracy: 0.9730 - val_loss: 0.2228 - val_accuracy: 0.9028\n",
      "Epoch 10/15\n",
      "36/36 [==============================] - 1s 17ms/step - loss: 0.0926 - accuracy: 0.9800 - val_loss: 0.1915 - val_accuracy: 0.9271\n",
      "Epoch 11/15\n",
      "36/36 [==============================] - 1s 21ms/step - loss: 0.0910 - accuracy: 0.9809 - val_loss: 0.2049 - val_accuracy: 0.9375\n",
      "Epoch 12/15\n",
      "36/36 [==============================] - 6s 177ms/step - loss: 0.0714 - accuracy: 0.9861 - val_loss: 0.1959 - val_accuracy: 0.9410\n",
      "Epoch 13/15\n",
      "36/36 [==============================] - 15s 408ms/step - loss: 0.0644 - accuracy: 0.9904 - val_loss: 0.1804 - val_accuracy: 0.9340\n",
      "Epoch 14/15\n",
      "36/36 [==============================] - 12s 338ms/step - loss: 0.0595 - accuracy: 0.9878 - val_loss: 0.1768 - val_accuracy: 0.9375\n",
      "Epoch 15/15\n",
      "36/36 [==============================] - 18s 498ms/step - loss: 0.0529 - accuracy: 0.9913 - val_loss: 0.1930 - val_accuracy: 0.9549\n"
     ]
    },
    {
     "data": {
      "text/plain": [
       "<keras.callbacks.History at 0x227fb257070>"
      ]
     },
     "execution_count": 14,
     "metadata": {},
     "output_type": "execute_result"
    }
   ],
   "source": [
    "model.fit(\n",
    "    X_train, # Training data\n",
    "    y_train, # Training labels\n",
    "    epochs=15, # Number of epochs\n",
    "    batch_size=32, # Number of samples per batch\n",
    "    validation_split=0.2 # Use 20% of the data for validation\n",
    ")"
   ]
  },
  {
   "cell_type": "markdown",
   "metadata": {
    "collapsed": false
   },
   "source": [
    "We have now trained our model! We can see that the model has been trained for 5 epochs, and the loss and accuracy have been printed for each epoch. We can also see that the model has been evaluated on the validation data at the end of each epoch. This is useful for us to see how the model is performing on data that it hasn't seen during training.\n",
    "\n",
    "Once the model is trained, it's time to evaluate the model on the test set. We can use the `evaluate` method of the model to do this. If you were building a model for a real-world application, this is the very last thing you would do, and the result here would be the figure you'd report in your paper or presentation."
   ]
  },
  {
   "cell_type": "code",
   "execution_count": 15,
   "metadata": {
    "collapsed": false
   },
   "outputs": [
    {
     "name": "stdout",
     "output_type": "stream",
     "text": [
      "12/12 [==============================] - 2s 168ms/step - loss: 0.1810 - accuracy: 0.9528\n",
      "Loss:     0.18\n",
      "Accuracy: 95.28%\n"
     ]
    }
   ],
   "source": [
    "loss, accuracy = model.evaluate(X_test, y_test)\n",
    "\n",
    "print(f'Loss:     {loss:.2f}')\n",
    "print(f'Accuracy: {accuracy*100:.2f}%')"
   ]
  },
  {
   "cell_type": "markdown",
   "metadata": {
    "collapsed": false
   },
   "source": [
    "Hopefully you have achieved an accuracy of around 95%. This is pretty good, but we can do better! In the next section, we will look at how we can improve the performance of our model by using a more advanced optimizer. But before we get there, let's do one other thing - let's look at the predictions that our model is making on the test set. When you are building a model, it's often useful to have a look at some of the examples your model is getting wrong. Sometimes this can reveal problems with the data, or it can give you ideas for how to improve your model."
   ]
  },
  {
   "cell_type": "code",
   "execution_count": 16,
   "metadata": {
    "collapsed": false
   },
   "outputs": [
    {
     "name": "stdout",
     "output_type": "stream",
     "text": [
      "12/12 [==============================] - 1s 52ms/step\n"
     ]
    },
    {
     "data": {
      "image/png": "[encoded data removed]",
      "text/plain": [
       "<Figure size 600x600 with 9 Axes>"
      ]
     },
     "metadata": {},
     "output_type": "display_data"
    }
   ],
   "source": [
    "# Get the predictions for the test data\n",
    "predictions = model.predict(X_test)\n",
    "\n",
    "# Get the index of the largest probability (i.e. the predicted class)\n",
    "predicted_classes = np.argmax(predictions, axis=1)\n",
    "true_classes = np.argmax(y_test, axis=1)\n",
    "misclassified_indices = np.where(predicted_classes != true_classes)[0]\n",
    "\n",
    "# Get the misclassified samples themselves\n",
    "misclassified_samples = X_test[misclassified_indices]\n",
    "misclassified_labels = np.argmax(y_test[misclassified_indices], axis=1)\n",
    "\n",
    "# Pick 9 random misclassified samples\n",
    "random_indices = np.random.choice(len(misclassified_indices), 9, replace=False)\n",
    "\n",
    "fig, axes = plt.subplots(3, 3, figsize=(6, 6))\n",
    "for i, ax in enumerate(axes.flat):\n",
    "    ax.imshow(misclassified_samples[random_indices[i]].reshape(8, 8), cmap=plt.cm.gray_r, interpolation='nearest')\n",
    "    ax.set_title(f\"Pred: {predicted_classes[misclassified_indices[random_indices[i]]]}, Real: {misclassified_labels[random_indices[i]]}\")\n",
    "\n",
    "    # Removing axis labels\n",
    "    ax.set_xticks([])\n",
    "    ax.set_yticks([])\n",
    "    \n",
    "plt.show()"
   ]
  },
  {
   "cell_type": "markdown",
   "metadata": {
    "collapsed": false
   },
   "source": [
    "What do you think? Would you have made the same mistakes as the model? Determining whether the mistakes are \"understandable\" is a rough way of seeing if you could improve the model further, or if this is the best you can do with the data you have."
   ]
  },
  {
   "cell_type": "markdown",
   "metadata": {},
   "source": [
    "### b) Exercises: Impact of the Optimizer\n",
    "\n",
    "In this section, you will play around with the optimizer and see how it affects the performance of the model. We will start with the standard SGD optimizer, and then we will look at more advanced optimizers.\n",
    "\n",
    "1. Try decreasing the learning rate of the SGD optimizer by a factor of 10, or 100. What do you observe?\n",
    "2. Try increasing the learning rate of the SGD optimizer. What happens?\n",
    "3. The SGD optimizer has a momentum parameter. In a nutshell, this parameter controls how much the gradient from the previous step affects the current step. Try enabling momentum in the SGD optimizer with a value of 0.9. What happens?\n",
    "  \n",
    "**Notes**: \n",
    "\n",
    "The keras API documentation is available at:\n",
    "\n",
    "https://www.tensorflow.org/api_docs/python/tf/keras\n",
    "\n",
    "It is also possible to learn more about the parameters of a class by using the question mark: type and evaluate:\n",
    "\n",
    "```python\n",
    "optimizers.SGD?\n",
    "```\n",
    "\n",
    "in a jupyter notebook cell.\n",
    "\n",
    "It is also possible to type the beginning of a function call / constructor and type \"shift-tab\" after the opening paren:\n",
    "\n",
    "```python\n",
    "optimizers.SGD(<shift-tab>\n",
    "```"
   ]
  },
  {
   "cell_type": "code",
   "execution_count": 17,
   "metadata": {},
   "outputs": [
    {
     "name": "stdout",
     "output_type": "stream",
     "text": [
      "Model: \"sequential_1\"\n",
      "_________________________________________________________________\n",
      " Layer (type)                Output Shape              Param #   \n",
      "=================================================================\n",
      " dense_3 (Dense)             (None, 64)                4160      \n",
      "                                                                 \n",
      " dense_4 (Dense)             (None, 64)                4160      \n",
      "                                                                 \n",
      " dense_5 (Dense)             (None, 10)                650       \n",
      "                                                                 \n",
      "=================================================================\n",
      "Total params: 8,970\n",
      "Trainable params: 8,970\n",
      "Non-trainable params: 0\n",
      "_________________________________________________________________\n",
      "Epoch 1/15\n",
      "45/45 [==============================] - 8s 158ms/step - loss: 2.3625 - accuracy: 0.5115\n",
      "Epoch 2/15\n",
      "45/45 [==============================] - 11s 251ms/step - loss: 0.4067 - accuracy: 0.8887\n",
      "Epoch 3/15\n",
      "45/45 [==============================] - 8s 177ms/step - loss: 0.2620 - accuracy: 0.9290\n",
      "Epoch 4/15\n",
      "45/45 [==============================] - 10s 208ms/step - loss: 0.2022 - accuracy: 0.9443\n",
      "Epoch 5/15\n",
      "45/45 [==============================] - 13s 280ms/step - loss: 0.1637 - accuracy: 0.9582\n",
      "Epoch 6/15\n",
      "45/45 [==============================] - 14s 309ms/step - loss: 0.1479 - accuracy: 0.9555\n",
      "Epoch 7/15\n",
      "45/45 [==============================] - 18s 410ms/step - loss: 0.1228 - accuracy: 0.9659\n",
      "Epoch 8/15\n",
      "45/45 [==============================] - 24s 541ms/step - loss: 0.1089 - accuracy: 0.9736\n",
      "Epoch 9/15\n",
      "45/45 [==============================] - 23s 501ms/step - loss: 0.0938 - accuracy: 0.9763\n",
      "Epoch 10/15\n",
      "45/45 [==============================] - 11s 246ms/step - loss: 0.0857 - accuracy: 0.9770\n",
      "Epoch 11/15\n",
      "45/45 [==============================] - 16s 367ms/step - loss: 0.0732 - accuracy: 0.9826\n",
      "Epoch 12/15\n",
      "45/45 [==============================] - 21s 475ms/step - loss: 0.0692 - accuracy: 0.9854\n",
      "Epoch 13/15\n",
      "45/45 [==============================] - 22s 490ms/step - loss: 0.0680 - accuracy: 0.9840\n",
      "Epoch 14/15\n",
      "45/45 [==============================] - 17s 372ms/step - loss: 0.0572 - accuracy: 0.9882\n",
      "Epoch 15/15\n",
      "45/45 [==============================] - 17s 376ms/step - loss: 0.0551 - accuracy: 0.9868\n"
     ]
    }
   ],
   "source": [
    "# Your code here - copy the relevant parts from the previous section and add more cells as needed\n",
    "\n",
    "from tensorflow.keras import optimizers\n",
    "\n",
    "model = Sequential()\n",
    "\n",
    "# Input\n",
    "model.add(Dense(64, activation = 'relu', input_shape=(64,)))\n",
    "\n",
    "# Hidden #1 \n",
    "model.add(Dense(64, activation = 'relu'))\n",
    "\n",
    "# Hidden #2 \n",
    "model.add(Dense(10, activation ='softmax'))\n",
    "\n",
    "model.summary()\n",
    "model.compile(optimizer=optimizers.SGD(learning_rate=0.001, momentum=0.9), loss='categorical_crossentropy', metrics=['accuracy'])\n",
    "history = model.fit(X_train, y_train, epochs = 15, batch_size= 32)"
   ]
  },
  {
   "cell_type": "markdown",
   "metadata": {},
   "source": [
    "Next, let's try a more advanced optimizer. Adam is likely the most popular optimizer for deep learning. It is an adaptive learning rate optimizer, which means that it automatically adjusts the learning rate based on how the training is going. This can be very useful, as it means that we don't need to manually tune the learning rate. Let's see how it performs on our model.\n",
    "\n",
    "\n",
    "1. Replace the SGD optimizer by the Adam optimizer from keras and run it\n",
    "  with the default parameters.\n",
    "\n",
    "2. Add another hidden layer with ReLU activation and 64 neurons. Does it improve the model performance?\n"
   ]
  },
  {
   "cell_type": "code",
   "execution_count": 18,
   "metadata": {},
   "outputs": [
    {
     "name": "stdout",
     "output_type": "stream",
     "text": [
      "Model: \"sequential_2\"\n",
      "_________________________________________________________________\n",
      " Layer (type)                Output Shape              Param #   \n",
      "=================================================================\n",
      " dense_6 (Dense)             (None, 64)                4160      \n",
      "                                                                 \n",
      " dense_7 (Dense)             (None, 64)                4160      \n",
      "                                                                 \n",
      " dense_8 (Dense)             (None, 2)                 130       \n",
      "                                                                 \n",
      " dense_9 (Dense)             (None, 10)                30        \n",
      "                                                                 \n",
      "=================================================================\n",
      "Total params: 8,480\n",
      "Trainable params: 8,480\n",
      "Non-trainable params: 0\n",
      "_________________________________________________________________\n",
      "Epoch 1/15\n",
      "45/45 [==============================] - 16s 329ms/step - loss: 2.3800 - accuracy: 0.1072\n",
      "Epoch 2/15\n",
      "45/45 [==============================] - 8s 181ms/step - loss: 2.3200 - accuracy: 0.1427\n",
      "Epoch 3/15\n",
      "45/45 [==============================] - 12s 280ms/step - loss: 2.2833 - accuracy: 0.1587\n",
      "Epoch 4/15\n",
      "45/45 [==============================] - 3s 71ms/step - loss: 2.2597 - accuracy: 0.1795\n",
      "Epoch 5/15\n",
      "45/45 [==============================] - 4s 94ms/step - loss: 2.2431 - accuracy: 0.1907\n",
      "Epoch 6/15\n",
      "45/45 [==============================] - 4s 79ms/step - loss: 2.2295 - accuracy: 0.2018\n",
      "Epoch 7/15\n",
      "45/45 [==============================] - 4s 78ms/step - loss: 2.2166 - accuracy: 0.2164\n",
      "Epoch 8/15\n",
      "45/45 [==============================] - 4s 90ms/step - loss: 2.2038 - accuracy: 0.2171\n",
      "Epoch 9/15\n",
      "45/45 [==============================] - 20s 429ms/step - loss: 2.1894 - accuracy: 0.2199\n",
      "Epoch 10/15\n",
      "45/45 [==============================] - 9s 181ms/step - loss: 2.1720 - accuracy: 0.2164\n",
      "Epoch 11/15\n",
      "45/45 [==============================] - 8s 177ms/step - loss: 2.1495 - accuracy: 0.2143\n",
      "Epoch 12/15\n",
      "45/45 [==============================] - 11s 238ms/step - loss: 2.1228 - accuracy: 0.2262\n",
      "Epoch 13/15\n",
      "45/45 [==============================] - 17s 361ms/step - loss: 2.0989 - accuracy: 0.2331\n",
      "Epoch 14/15\n",
      "45/45 [==============================] - 6s 124ms/step - loss: 2.0792 - accuracy: 0.2408\n",
      "Epoch 15/15\n",
      "45/45 [==============================] - 17s 381ms/step - loss: 2.0607 - accuracy: 0.2463\n"
     ]
    }
   ],
   "source": [
    "# Your code here\n",
    "\n",
    "model = Sequential()\n",
    "\n",
    "# Input\n",
    "model.add(Dense(64, activation = 'relu', input_shape=(64,)))\n",
    "\n",
    "# Hidden #1 \n",
    "model.add(Dense(64, activation = 'relu'))\n",
    "\n",
    "#adding new hidden\n",
    "model.add(Dense(2, activation ='tanh'))\n",
    "\n",
    "# Hidden #2 \n",
    "model.add(Dense(10, activation ='softmax'))\n",
    "\n",
    "\n",
    "\n",
    "model.summary()\n",
    "model.compile(optimizer=optimizers.SGD(learning_rate=0.001), loss='categorical_crossentropy', metrics=['accuracy'])\n",
    "history = model.fit(X_train, y_train, epochs = 15, batch_size= 32)"
   ]
  },
  {
   "cell_type": "markdown",
   "metadata": {},
   "source": [
    "### Exercises: Forward Pass and Generalization\n",
    "\n",
    "Let's look in more detail at how the model makes predictions on the test set. We will walk through each step of making predictions, examining exactly what's going on.\n",
    "\n",
    "To start, we will apply our model to the test set, and look at what we get as output:"
   ]
  },
  {
   "cell_type": "code",
   "execution_count": 19,
   "metadata": {},
   "outputs": [
    {
     "data": {
      "text/plain": [
       "<tf.Tensor: shape=(5, 10), dtype=float32, numpy=\n",
       "array([[0.0407718 , 0.11666958, 0.06600611, 0.07117178, 0.06545935,\n",
       "        0.14905824, 0.22466725, 0.17923631, 0.02436127, 0.06259829],\n",
       "       [0.09896322, 0.07403345, 0.15580446, 0.12714407, 0.05385933,\n",
       "        0.13398921, 0.06747571, 0.12382571, 0.10531012, 0.05959477],\n",
       "       [0.10286526, 0.07390526, 0.15458821, 0.12693897, 0.05617434,\n",
       "        0.12828267, 0.06531197, 0.11789913, 0.11200562, 0.06202858],\n",
       "       [0.11901206, 0.07535719, 0.14040683, 0.12124974, 0.0708853 ,\n",
       "        0.10276458, 0.05941288, 0.09330316, 0.14089125, 0.07671696],\n",
       "       [0.10070693, 0.07392337, 0.15542619, 0.127128  , 0.05481309,\n",
       "        0.13148144, 0.06643032, 0.12118153, 0.1083011 , 0.06060805]],\n",
       "      dtype=float32)>"
      ]
     },
     "execution_count": 19,
     "metadata": {},
     "output_type": "execute_result"
    }
   ],
   "source": [
    "predictions_tf = model(X_test)\n",
    "predictions_tf[:5]"
   ]
  },
  {
   "cell_type": "code",
   "execution_count": 20,
   "metadata": {},
   "outputs": [
    {
     "data": {
      "text/plain": [
       "(tensorflow.python.framework.ops.EagerTensor, TensorShape([360, 10]))"
      ]
     },
     "execution_count": 20,
     "metadata": {},
     "output_type": "execute_result"
    }
   ],
   "source": [
    "type(predictions_tf), predictions_tf.shape"
   ]
  },
  {
   "cell_type": "markdown",
   "metadata": {},
   "source": [
    "The raw output of the model is a tensor of shape `(360, 10)`. This means that we have 360 samples, and for each sample we have 10 values. Each of these values represents the probability that the sample belongs to a given class. This means that we have 10 probabilities for each sample, and the sum of these probabilities is 1. We can confirm this by summing the probabilities for each sample:"
   ]
  },
  {
   "cell_type": "code",
   "execution_count": 21,
   "metadata": {},
   "outputs": [
    {
     "data": {
      "text/plain": [
       "<tf.Tensor: shape=(5,), dtype=float32, numpy=array([1., 1., 1., 1., 1.], dtype=float32)>"
      ]
     },
     "execution_count": 21,
     "metadata": {},
     "output_type": "execute_result"
    }
   ],
   "source": [
    "import tensorflow as tf\n",
    "\n",
    "tf.reduce_sum(predictions_tf, axis=1)[:5]"
   ]
  },
  {
   "cell_type": "markdown",
   "metadata": {
    "collapsed": false
   },
   "source": [
    "...okay, there might be a small rounding error here and there. This is to do with how floating point numbers are represented in computers, and it's not something we need to worry about for now."
   ]
  },
  {
   "cell_type": "markdown",
   "metadata": {},
   "source": [
    "We can also extract the label with the highest probability using the tensorflow API:"
   ]
  },
  {
   "cell_type": "code",
   "execution_count": 22,
   "metadata": {},
   "outputs": [
    {
     "data": {
      "text/plain": [
       "<tf.Tensor: shape=(5,), dtype=int64, numpy=array([6, 2, 2, 8, 2], dtype=int64)>"
      ]
     },
     "execution_count": 22,
     "metadata": {},
     "output_type": "execute_result"
    }
   ],
   "source": [
    "predicted_labels_tf = tf.argmax(predictions_tf, axis=1)\n",
    "predicted_labels_tf[:5]"
   ]
  },
  {
   "cell_type": "markdown",
   "metadata": {
    "collapsed": false
   },
   "source": [
    "One helpful aspect of this approach is that we don't just get the prediction, but also a sense of how confident the model is in its prediction. To see this in practice, let's take a look at some of the predictions the model is highly confident about (i.e. a lot of the probability mass is on one class):"
   ]
  },
  {
   "cell_type": "code",
   "execution_count": 23,
   "metadata": {
    "collapsed": false
   },
   "outputs": [
    {
     "data": {
      "image/png": "[encoded data removed]",
      "text/plain": [
       "<Figure size 600x600 with 9 Axes>"
      ]
     },
     "metadata": {},
     "output_type": "display_data"
    }
   ],
   "source": [
    "# Get the values corresponding to the predicted labels for each sample\n",
    "predicted_values_tf = tf.reduce_max(predictions_tf, axis=1)\n",
    "\n",
    "# Get the indices of the samples with the highest predicted values\n",
    "most_confident_indices_tf = tf.argsort(predicted_values_tf, direction='DESCENDING').numpy()[:9]\n",
    "\n",
    "# Get the 9 most confident samples\n",
    "most_confident_samples_tf = X_test[most_confident_indices_tf]\n",
    "\n",
    "# Get the true labels for the 9 most confident samples\n",
    "most_confident_labels_tf = np.argmax(y_test[most_confident_indices_tf], axis=1)\n",
    "\n",
    "# Plot the 9 most confident samples\n",
    "fig, axes = plt.subplots(3, 3, figsize=(6, 6))\n",
    "\n",
    "for i, ax in enumerate(axes.flat):\n",
    "    ax.imshow(most_confident_samples_tf[i].reshape(8, 8), cmap=plt.cm.gray_r, interpolation='nearest')\n",
    "    ax.set_title(f\"{most_confident_labels_tf[i]}\")\n",
    "\n",
    "    # Removing axis labels\n",
    "    ax.set_xticks([])\n",
    "    ax.set_yticks([])\n",
    "    \n",
    "plt.show()"
   ]
  },
  {
   "cell_type": "markdown",
   "metadata": {},
   "source": [
    "## Impact of Initialization\n",
    "\n",
    "Let's study the impact of a bad initialization when training\n",
    "a deep feed forward network.\n",
    "\n",
    "By default, Keras dense layers use the \"Glorot Uniform\" initialization\n",
    "strategy to initialize the weight matrices:\n",
    "\n",
    "- each weight coefficient is randomly sampled from [-scale, scale]\n",
    "- scale is proportional to $\\frac{1}{\\sqrt{n_{in} + n_{out}}}$\n",
    "\n",
    "This strategy is known to work well to initialize deep neural networks\n",
    "with \"tanh\" or \"relu\" activation functions and then trained with\n",
    "standard SGD.\n",
    "\n",
    "To assess the impact of initialization let us plug an alternative init\n",
    "scheme into a 2 hidden layers networks with \"tanh\" activations.\n",
    "For the sake of the example let's use normal distributed weights\n",
    "with a manually adjustable scale (standard deviation) and see the\n",
    "impact the scale value:"
   ]
  },
  {
   "cell_type": "code",
   "execution_count": 24,
   "metadata": {},
   "outputs": [],
   "source": [
    "from tensorflow.keras import initializers\n",
    "from tensorflow.keras import optimizers\n",
    "\n",
    "input_dim = 64\n",
    "hidden_dim = 64\n",
    "output_dim = 10\n",
    "\n",
    "normal_init = initializers.TruncatedNormal(stddev=0.01, seed=42)\n",
    "\n",
    "model = Sequential()\n",
    "model.add(Dense(hidden_dim, input_dim=input_dim, activation=\"tanh\",\n",
    "                kernel_initializer=normal_init))\n",
    "model.add(Dense(hidden_dim, activation=\"tanh\",\n",
    "                kernel_initializer=normal_init))\n",
    "model.add(Dense(output_dim, activation=\"softmax\",\n",
    "                kernel_initializer=normal_init))\n",
    "\n",
    "model.compile(optimizer=optimizers.SGD(learning_rate=0.1),\n",
    "              loss='categorical_crossentropy', metrics=['accuracy'])"
   ]
  },
  {
   "cell_type": "code",
   "execution_count": 25,
   "metadata": {},
   "outputs": [
    {
     "data": {
      "text/plain": [
       "[<keras.layers.core.dense.Dense at 0x227fee95c10>,\n",
       " <keras.layers.core.dense.Dense at 0x227fee95c40>,\n",
       " <keras.layers.core.dense.Dense at 0x227fd82c3d0>]"
      ]
     },
     "execution_count": 25,
     "metadata": {},
     "output_type": "execute_result"
    }
   ],
   "source": [
    "model.layers"
   ]
  },
  {
   "cell_type": "markdown",
   "metadata": {},
   "source": [
    "Let's have a look at the parameters of the first layer after initialization but before any training has happened:"
   ]
  },
  {
   "cell_type": "code",
   "execution_count": 26,
   "metadata": {},
   "outputs": [
    {
     "data": {
      "text/plain": [
       "[<tf.Variable 'dense_10/kernel:0' shape=(64, 64) dtype=float32, numpy=\n",
       " array([[ 0.00015817, -0.01590087,  0.00103594, ...,  0.00962818,\n",
       "          0.00624957,  0.00994726],\n",
       "        [ 0.0081879 ,  0.00756818, -0.00668142, ...,  0.01084459,\n",
       "         -0.00317478, -0.00549116],\n",
       "        [-0.00086618, -0.00287623,  0.00391693, ...,  0.00064558,\n",
       "         -0.00420471,  0.00174566],\n",
       "        ...,\n",
       "        [-0.0029006 , -0.0091218 ,  0.00804327, ..., -0.01407086,\n",
       "          0.00952832, -0.01348555],\n",
       "        [ 0.00375078,  0.00967842,  0.00098119, ..., -0.00413454,\n",
       "          0.01695471,  0.00025196],\n",
       "        [ 0.00459809,  0.01223094, -0.00213172, ...,  0.01246831,\n",
       "         -0.00714749, -0.00868595]], dtype=float32)>,\n",
       " <tf.Variable 'dense_10/bias:0' shape=(64,) dtype=float32, numpy=\n",
       " array([0., 0., 0., 0., 0., 0., 0., 0., 0., 0., 0., 0., 0., 0., 0., 0., 0.,\n",
       "        0., 0., 0., 0., 0., 0., 0., 0., 0., 0., 0., 0., 0., 0., 0., 0., 0.,\n",
       "        0., 0., 0., 0., 0., 0., 0., 0., 0., 0., 0., 0., 0., 0., 0., 0., 0.,\n",
       "        0., 0., 0., 0., 0., 0., 0., 0., 0., 0., 0., 0., 0.], dtype=float32)>]"
      ]
     },
     "execution_count": 26,
     "metadata": {},
     "output_type": "execute_result"
    }
   ],
   "source": [
    "model.layers[0].weights"
   ]
  },
  {
   "cell_type": "code",
   "execution_count": 27,
   "metadata": {},
   "outputs": [
    {
     "data": {
      "text/plain": [
       "array([[ 0.00015817, -0.01590087,  0.00103594, ...,  0.00962818,\n",
       "         0.00624957,  0.00994726],\n",
       "       [ 0.0081879 ,  0.00756818, -0.00668142, ...,  0.01084459,\n",
       "        -0.00317478, -0.00549116],\n",
       "       [-0.00086618, -0.00287623,  0.00391693, ...,  0.00064558,\n",
       "        -0.00420471,  0.00174566],\n",
       "       ...,\n",
       "       [-0.0029006 , -0.0091218 ,  0.00804327, ..., -0.01407086,\n",
       "         0.00952832, -0.01348555],\n",
       "       [ 0.00375078,  0.00967842,  0.00098119, ..., -0.00413454,\n",
       "         0.01695471,  0.00025196],\n",
       "       [ 0.00459809,  0.01223094, -0.00213172, ...,  0.01246831,\n",
       "        -0.00714749, -0.00868595]], dtype=float32)"
      ]
     },
     "execution_count": 27,
     "metadata": {},
     "output_type": "execute_result"
    }
   ],
   "source": [
    "w = model.layers[0].weights[0].numpy()\n",
    "w"
   ]
  },
  {
   "cell_type": "code",
   "execution_count": 28,
   "metadata": {},
   "outputs": [
    {
     "data": {
      "text/plain": [
       "0.008835949"
      ]
     },
     "execution_count": 28,
     "metadata": {},
     "output_type": "execute_result"
    }
   ],
   "source": [
    "w.std()"
   ]
  },
  {
   "cell_type": "code",
   "execution_count": 29,
   "metadata": {},
   "outputs": [
    {
     "data": {
      "text/plain": [
       "array([0., 0., 0., 0., 0., 0., 0., 0., 0., 0., 0., 0., 0., 0., 0., 0., 0.,\n",
       "       0., 0., 0., 0., 0., 0., 0., 0., 0., 0., 0., 0., 0., 0., 0., 0., 0.,\n",
       "       0., 0., 0., 0., 0., 0., 0., 0., 0., 0., 0., 0., 0., 0., 0., 0., 0.,\n",
       "       0., 0., 0., 0., 0., 0., 0., 0., 0., 0., 0., 0., 0.], dtype=float32)"
      ]
     },
     "execution_count": 29,
     "metadata": {},
     "output_type": "execute_result"
    }
   ],
   "source": [
    "b = model.layers[0].weights[1].numpy()\n",
    "b"
   ]
  },
  {
   "cell_type": "code",
   "execution_count": 30,
   "metadata": {},
   "outputs": [
    {
     "name": "stdout",
     "output_type": "stream",
     "text": [
      "Epoch 1/15\n",
      "45/45 [==============================] - 21s 433ms/step - loss: 2.2866 - accuracy: 0.2171\n",
      "Epoch 2/15\n",
      "45/45 [==============================] - 9s 210ms/step - loss: 1.7330 - accuracy: 0.4718\n",
      "Epoch 3/15\n",
      "45/45 [==============================] - 5s 115ms/step - loss: 0.9797 - accuracy: 0.7342\n",
      "Epoch 4/15\n",
      "45/45 [==============================] - 17s 394ms/step - loss: 0.5728 - accuracy: 0.8518\n",
      "Epoch 5/15\n",
      "45/45 [==============================] - 13s 291ms/step - loss: 0.3097 - accuracy: 0.9297\n",
      "Epoch 6/15\n",
      "45/45 [==============================] - 8s 190ms/step - loss: 0.2145 - accuracy: 0.9485\n",
      "Epoch 7/15\n",
      "45/45 [==============================] - 7s 150ms/step - loss: 0.2398 - accuracy: 0.9408\n",
      "Epoch 8/15\n",
      "45/45 [==============================] - 10s 222ms/step - loss: 0.1703 - accuracy: 0.9548\n",
      "Epoch 9/15\n",
      "45/45 [==============================] - 7s 165ms/step - loss: 0.1276 - accuracy: 0.9715\n",
      "Epoch 10/15\n",
      "45/45 [==============================] - 14s 323ms/step - loss: 0.1114 - accuracy: 0.9743\n",
      "Epoch 11/15\n",
      "45/45 [==============================] - 13s 272ms/step - loss: 0.0886 - accuracy: 0.9791\n",
      "Epoch 12/15\n",
      "45/45 [==============================] - 7s 154ms/step - loss: 0.0822 - accuracy: 0.9777\n",
      "Epoch 13/15\n",
      "45/45 [==============================] - 6s 114ms/step - loss: 0.0566 - accuracy: 0.9903\n",
      "Epoch 14/15\n",
      "45/45 [==============================] - 9s 213ms/step - loss: 0.0475 - accuracy: 0.9868\n",
      "Epoch 15/15\n",
      "45/45 [==============================] - 3s 68ms/step - loss: 0.0446 - accuracy: 0.9903\n"
     ]
    },
    {
     "data": {
      "image/png": "[encoded data removed]",
      "text/plain": [
       "<Figure size 1200x400 with 1 Axes>"
      ]
     },
     "metadata": {},
     "output_type": "display_data"
    }
   ],
   "source": [
    "history = model.fit(X_train, y_train, epochs=15, batch_size=32)\n",
    "\n",
    "plt.figure(figsize=(12, 4))\n",
    "plt.plot(history.history['loss'], label=\"Truncated Normal init\")\n",
    "plt.legend();"
   ]
  },
  {
   "cell_type": "markdown",
   "metadata": {},
   "source": [
    "Once the model has been fit, the weights have been updated and notably the biases are no longer 0:"
   ]
  },
  {
   "cell_type": "code",
   "execution_count": 31,
   "metadata": {},
   "outputs": [
    {
     "data": {
      "text/plain": [
       "[<tf.Variable 'dense_10/kernel:0' shape=(64, 64) dtype=float32, numpy=\n",
       " array([[ 1.58170762e-04, -1.59008689e-02,  1.03594456e-03, ...,\n",
       "          9.62818228e-03,  6.24957308e-03,  9.94726177e-03],\n",
       "        [ 1.49345994e-02, -6.14895299e-03, -6.89299637e-03, ...,\n",
       "         -8.12992081e-03, -2.06182580e-02, -4.34167087e-02],\n",
       "        [ 5.53185903e-02, -5.78085668e-02, -1.01894937e-01, ...,\n",
       "         -3.97810787e-02, -1.37819618e-01,  3.61643955e-02],\n",
       "        ...,\n",
       "        [ 1.94399580e-02,  9.33463126e-03,  1.26846790e-01, ...,\n",
       "         -6.78600669e-02,  4.97097708e-02, -1.94751933e-01],\n",
       "        [ 2.29903087e-02, -2.69908514e-02,  8.59797224e-02, ...,\n",
       "         -5.11258468e-02, -4.23361249e-02, -1.25840634e-01],\n",
       "        [ 2.93469280e-02, -1.15922345e-02,  4.70652692e-02, ...,\n",
       "          5.40946759e-02,  8.91631562e-03, -4.62554209e-02]], dtype=float32)>,\n",
       " <tf.Variable 'dense_10/bias:0' shape=(64,) dtype=float32, numpy=\n",
       " array([ 3.0781064e-04, -1.9351795e-03,  8.2607463e-04,  9.6320856e-04,\n",
       "        -3.0189548e-03,  8.0118691e-05, -2.9589617e-04, -5.9481652e-04,\n",
       "         4.3651363e-04, -1.3447490e-03,  4.0762452e-04,  4.1430299e-03,\n",
       "         1.9430716e-03, -1.2039116e-03,  5.1853056e-03, -5.5296166e-04,\n",
       "         8.0735181e-03,  7.9905882e-04,  1.5087011e-04, -6.0223751e-03,\n",
       "         5.6109321e-03, -4.3957241e-04,  2.3849998e-03,  1.4470845e-03,\n",
       "         4.9042748e-03,  3.5918991e-03, -2.4572804e-03,  5.1678048e-04,\n",
       "         1.0056854e-03,  2.1540787e-05,  3.0502013e-03,  8.3818584e-04,\n",
       "         4.4437894e-04,  8.7710860e-04, -4.1244755e-05, -6.5741804e-04,\n",
       "        -3.4347961e-03,  7.1564544e-04,  1.6889549e-03, -3.2660335e-03,\n",
       "        -2.3426891e-04,  1.9006256e-06, -2.2696829e-03,  5.6649739e-04,\n",
       "        -3.2323073e-03, -7.8726368e-04,  2.8843789e-03, -2.4675082e-03,\n",
       "         2.9826032e-03,  1.0057022e-03,  3.2592611e-03, -3.8718600e-03,\n",
       "        -6.0984744e-03, -4.1631535e-03, -3.9119525e-03, -2.7390614e-03,\n",
       "         1.1035963e-03,  1.4736522e-03,  2.4610355e-03,  2.5616348e-04,\n",
       "         7.6718751e-04,  2.7857866e-04, -5.0026248e-03, -1.1290790e-03],\n",
       "       dtype=float32)>]"
      ]
     },
     "execution_count": 31,
     "metadata": {},
     "output_type": "execute_result"
    }
   ],
   "source": [
    "model.layers[0].weights"
   ]
  },
  {
   "cell_type": "markdown",
   "metadata": {},
   "source": [
    "#### Questions:\n",
    "\n",
    "- Try the following initialization schemes and see whether\n",
    "  the SGD algorithm can successfully train the network or\n",
    "  not:\n",
    "  \n",
    "  - a very small e.g. `stddev=1e-3`\n",
    "  - a larger scale e.g. `stddev=1` or `10`\n",
    "  - initialize all weights to 0 (constant initialization)\n",
    "  \n",
    "- What do you observe? Can you find an explanation for those\n",
    "  outcomes?\n",
    "\n",
    "- Are more advanced solvers such as SGD with momentum or Adam able\n",
    "  to deal better with such bad initializations?"
   ]
  },
  {
   "cell_type": "code",
   "execution_count": 33,
   "metadata": {},
   "outputs": [
    {
     "name": "stdout",
     "output_type": "stream",
     "text": [
      "Epoch 1/15\n",
      "36/36 [==============================] - 3s 70ms/step - loss: 2.3034 - accuracy: 0.0940 - val_loss: 2.3044 - val_accuracy: 0.0833\n",
      "Epoch 2/15\n",
      "36/36 [==============================] - 0s 6ms/step - loss: 2.3026 - accuracy: 0.1036 - val_loss: 2.3057 - val_accuracy: 0.1076\n",
      "Epoch 3/15\n",
      "36/36 [==============================] - 8s 234ms/step - loss: 2.3021 - accuracy: 0.0975 - val_loss: 2.3069 - val_accuracy: 0.1076\n",
      "Epoch 4/15\n",
      "36/36 [==============================] - 10s 269ms/step - loss: 2.3022 - accuracy: 0.0888 - val_loss: 2.3076 - val_accuracy: 0.1076\n",
      "Epoch 5/15\n",
      "36/36 [==============================] - 19s 518ms/step - loss: 2.3022 - accuracy: 0.0905 - val_loss: 2.3083 - val_accuracy: 0.1076\n",
      "Epoch 6/15\n",
      "36/36 [==============================] - 22s 630ms/step - loss: 2.3020 - accuracy: 0.0775 - val_loss: 2.3088 - val_accuracy: 0.1076\n",
      "Epoch 7/15\n",
      "36/36 [==============================] - 17s 488ms/step - loss: 2.3019 - accuracy: 0.0975 - val_loss: 2.3092 - val_accuracy: 0.1076\n",
      "Epoch 8/15\n",
      "36/36 [==============================] - 4s 120ms/step - loss: 2.3018 - accuracy: 0.0931 - val_loss: 2.3096 - val_accuracy: 0.1076\n",
      "Epoch 9/15\n",
      "36/36 [==============================] - 4s 109ms/step - loss: 2.3018 - accuracy: 0.1070 - val_loss: 2.3095 - val_accuracy: 0.1076\n",
      "Epoch 10/15\n",
      "36/36 [==============================] - 5s 146ms/step - loss: 2.3018 - accuracy: 0.1044 - val_loss: 2.3091 - val_accuracy: 0.1076\n",
      "Epoch 11/15\n",
      "36/36 [==============================] - 6s 155ms/step - loss: 2.3011 - accuracy: 0.1001 - val_loss: 2.3076 - val_accuracy: 0.1806\n",
      "Epoch 12/15\n",
      "36/36 [==============================] - 15s 427ms/step - loss: 2.2684 - accuracy: 0.1923 - val_loss: 2.1022 - val_accuracy: 0.1944\n",
      "Epoch 13/15\n",
      "36/36 [==============================] - 10s 293ms/step - loss: 1.8898 - accuracy: 0.2054 - val_loss: 1.8570 - val_accuracy: 0.1979\n",
      "Epoch 14/15\n",
      "36/36 [==============================] - 5s 137ms/step - loss: 1.7541 - accuracy: 0.2037 - val_loss: 1.6773 - val_accuracy: 0.2361\n",
      "Epoch 15/15\n",
      "36/36 [==============================] - 5s 139ms/step - loss: 1.6266 - accuracy: 0.2855 - val_loss: 1.6909 - val_accuracy: 0.2500\n"
     ]
    },
    {
     "data": {
      "image/png": "[encoded data removed]",
      "text/plain": [
       "<Figure size 1200x400 with 1 Axes>"
      ]
     },
     "metadata": {},
     "output_type": "display_data"
    },
    {
     "name": "stdout",
     "output_type": "stream",
     "text": [
      "12/12 [==============================] - 2s 126ms/step - loss: 1.6688 - accuracy: 0.2444\n",
      "Loss (stddev=1e-3): 1.67, Accuracy: 24.44%\n",
      "Epoch 1/15\n",
      "36/36 [==============================] - 6s 165ms/step - loss: 4.1472 - accuracy: 0.2306 - val_loss: 2.7536 - val_accuracy: 0.3056\n",
      "Epoch 2/15\n",
      "36/36 [==============================] - 4s 105ms/step - loss: 2.0802 - accuracy: 0.4369 - val_loss: 1.6731 - val_accuracy: 0.5035\n",
      "Epoch 3/15\n",
      "36/36 [==============================] - 4s 114ms/step - loss: 1.4953 - accuracy: 0.5553 - val_loss: 1.5130 - val_accuracy: 0.5833\n",
      "Epoch 4/15\n",
      "36/36 [==============================] - 4s 118ms/step - loss: 1.3406 - accuracy: 0.6057 - val_loss: 1.4581 - val_accuracy: 0.5208\n",
      "Epoch 5/15\n",
      "36/36 [==============================] - 7s 191ms/step - loss: 1.1215 - accuracy: 0.6771 - val_loss: 1.2446 - val_accuracy: 0.6146\n",
      "Epoch 6/15\n",
      "36/36 [==============================] - 9s 239ms/step - loss: 1.0323 - accuracy: 0.6736 - val_loss: 1.0813 - val_accuracy: 0.6736\n",
      "Epoch 7/15\n",
      "36/36 [==============================] - 11s 297ms/step - loss: 0.8649 - accuracy: 0.7398 - val_loss: 1.0590 - val_accuracy: 0.6840\n",
      "Epoch 8/15\n",
      "36/36 [==============================] - 7s 182ms/step - loss: 0.8097 - accuracy: 0.7328 - val_loss: 0.9101 - val_accuracy: 0.7153\n",
      "Epoch 9/15\n",
      "36/36 [==============================] - 7s 207ms/step - loss: 0.7612 - accuracy: 0.7476 - val_loss: 0.8930 - val_accuracy: 0.6840\n",
      "Epoch 10/15\n",
      "36/36 [==============================] - 4s 125ms/step - loss: 0.7713 - accuracy: 0.7528 - val_loss: 0.9681 - val_accuracy: 0.6771\n",
      "Epoch 11/15\n",
      "36/36 [==============================] - 5s 146ms/step - loss: 0.8552 - accuracy: 0.7302 - val_loss: 1.0809 - val_accuracy: 0.7014\n",
      "Epoch 12/15\n",
      "36/36 [==============================] - 7s 191ms/step - loss: 0.7815 - accuracy: 0.7650 - val_loss: 0.7684 - val_accuracy: 0.7812\n",
      "Epoch 13/15\n",
      "36/36 [==============================] - 7s 180ms/step - loss: 0.6958 - accuracy: 0.7885 - val_loss: 0.8101 - val_accuracy: 0.7604\n",
      "Epoch 14/15\n",
      "36/36 [==============================] - 14s 401ms/step - loss: 0.6808 - accuracy: 0.7694 - val_loss: 0.6956 - val_accuracy: 0.7569\n",
      "Epoch 15/15\n",
      "36/36 [==============================] - 7s 195ms/step - loss: 0.6290 - accuracy: 0.7929 - val_loss: 0.7152 - val_accuracy: 0.7951\n"
     ]
    },
    {
     "data": {
      "image/png": "[encoded data removed]",
      "text/plain": [
       "<Figure size 1200x400 with 1 Axes>"
      ]
     },
     "metadata": {},
     "output_type": "display_data"
    },
    {
     "name": "stdout",
     "output_type": "stream",
     "text": [
      "12/12 [==============================] - 3s 243ms/step - loss: 0.6417 - accuracy: 0.7861\n",
      "Loss (stddev=1): 0.64, Accuracy: 78.61%\n"
     ]
    }
   ],
   "source": [
    "# Your code here\n",
    "from tensorflow.keras import initializers, optimizers\n",
    "\n",
    "\n",
    "\n",
    "normal_init_small = initializers.TruncatedNormal(stddev=1e-3, seed=42)\n",
    "\n",
    "model_small = Sequential()\n",
    "model_small.add(Dense(64, input_dim=64, activation=\"tanh\", kernel_initializer=normal_init_small))\n",
    "model_small.add(Dense(64, activation=\"tanh\", kernel_initializer=normal_init_small))\n",
    "model_small.add(Dense(10, activation=\"softmax\", kernel_initializer=normal_init_small))\n",
    "\n",
    "model_small.compile(optimizer=optimizers.SGD(learning_rate=0.1), loss='categorical_crossentropy', metrics=['accuracy'])\n",
    "history_small = model_small.fit(X_train, y_train, epochs=15, batch_size=32, validation_split=0.2)\n",
    "\n",
    "plt.figure(figsize=(12, 4))\n",
    "plt.plot(history_small.history['loss'], label=\"stddev=1e-3\")\n",
    "plt.legend()\n",
    "plt.show()\n",
    "\n",
    "loss_small, accuracy_small = model_small.evaluate(X_test, y_test)\n",
    "print(f'Loss (stddev=1e-3): {loss_small:.2f}, Accuracy: {accuracy_small * 100:.2f}%')\n",
    "\n",
    "normal_init_large = initializers.TruncatedNormal(stddev=1, seed=42)\n",
    "\n",
    "model_large = Sequential()\n",
    "model_large.add(Dense(64, input_dim=64, activation=\"tanh\", kernel_initializer=normal_init_large))\n",
    "model_large.add(Dense(64, activation=\"tanh\", kernel_initializer=normal_init_large))\n",
    "model_large.add(Dense(10, activation=\"softmax\", kernel_initializer=normal_init_large))\n",
    "\n",
    "model_large.compile(optimizer=optimizers.SGD(learning_rate=0.1), loss='categorical_crossentropy', metrics=['accuracy'])\n",
    "history_large = model_large.fit(X_train, y_train, epochs=15, batch_size=32, validation_split=0.2)\n",
    "\n",
    "plt.figure(figsize=(12, 4))\n",
    "plt.plot(history_large.history['loss'], label=\"stddev=1\")\n",
    "plt.legend()\n",
    "plt.show()\n",
    "\n",
    "loss_large, accuracy_large = model_large.evaluate(X_test, y_test)\n",
    "print(f'Loss (stddev=1): {loss_large:.2f}, Accuracy: {accuracy_large * 100:.2f}%')\n",
    "\n",
    "# stddev=1e-3: The model with very small initial weights may not learn effectively as the gradients can become very small, causing slow convergence.\n",
    "# stddev=1 works fine with standard optimizers like SGD.\n",
    "\n",
    "\n",
    "\n"
   ]
  }
 ],
 "metadata": {
  "file_extension": ".py",
  "kernelspec": {
   "display_name": "Python 3 (ipykernel)",
   "language": "python",
   "name": "python3"
  },
  "language_info": {
   "codemirror_mode": {
    "name": "ipython",
    "version": 3
   },
   "file_extension": ".py",
   "mimetype": "text/x-python",
   "name": "python",
   "nbconvert_exporter": "python",
   "pygments_lexer": "ipython3",
   "version": "3.9.15"
  },
  "mimetype": "text/x-python",
  "name": "python",
  "npconvert_exporter": "python",
  "pygments_lexer": "ipython3",
  "toc": {
   "base_numbering": 1,
   "nav_menu": {},
   "number_sections": true,
   "sideBar": true,
   "skip_h1_title": false,
   "title_cell": "Table of Contents",
   "title_sidebar": "Contents",
   "toc_cell": false,
   "toc_position": {},
   "toc_section_display": true,
   "toc_window_display": false
  },
  "version": 3
 },
 "nbformat": 4,
 "nbformat_minor": 4
}
